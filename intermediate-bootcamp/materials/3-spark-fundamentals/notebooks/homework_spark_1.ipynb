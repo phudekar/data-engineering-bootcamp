{
 "cells": [
  {
   "cell_type": "code",
   "execution_count": 1,
   "id": "b7c0e116-7495-4cb1-8ed1-f34432b43808",
   "metadata": {},
   "outputs": [
    {
     "name": "stderr",
     "output_type": "stream",
     "text": [
      "25/08/27 19:20:54 WARN SparkSession: Using an existing Spark session; only runtime SQL configurations will take effect.\n"
     ]
    }
   ],
   "source": [
    "from pyspark.sql import SparkSession\n",
    "from pyspark.sql.functions import expr, col\n",
    "spark = SparkSession.builder.appName(\"SparkHomework\").getOrCreate()\n",
    "\n",
    "spark\n",
    "\n",
    "spark.conf.set(\"spark.sql.autoBroadcastJoinThreshold\", \"-1\")\n",
    "spark.conf.set(\"spark.sql.bucketing.enabled\", \"1\")\n",
    "\n",
    "maps = spark.read.option(\"header\", \"true\").csv(\"/home/iceberg/data/maps.csv\")\n",
    "medals = spark.read.option(\"header\",\"true\").csv(\"/home/iceberg/data/medals.csv\")\n"
   ]
  },
  {
   "cell_type": "code",
   "execution_count": 2,
   "id": "4f69d709-d2ef-45bd-9c9c-61d3b005fbb0",
   "metadata": {},
   "outputs": [
    {
     "name": "stdout",
     "output_type": "stream",
     "text": [
      "40\n"
     ]
    }
   ],
   "source": [
    "print(maps.count())\n",
    "# maps.show()"
   ]
  },
  {
   "cell_type": "code",
   "execution_count": 3,
   "id": "7fd12c87-aefa-4016-b479-a7999b5bbbca",
   "metadata": {},
   "outputs": [
    {
     "name": "stdout",
     "output_type": "stream",
     "text": [
      "183\n"
     ]
    }
   ],
   "source": [
    "print(medals.count())\n",
    "# medals.show()"
   ]
  },
  {
   "cell_type": "markdown",
   "id": "f84634d3-53c7-4a35-b8a9-c72c5810a167",
   "metadata": {},
   "source": []
  },
  {
   "cell_type": "code",
   "execution_count": 4,
   "id": "7888634e-1967-4698-89cb-ff756044b691",
   "metadata": {},
   "outputs": [
    {
     "name": "stdout",
     "output_type": "stream",
     "text": [
      "+----+--------+----------+-----------+----------+------------------+-------------------+------------+-------------+--------------+-----------+----------+-----+-----------+\n",
      "|name|medal_id|sprite_uri|sprite_left|sprite_top|sprite_sheet_width|sprite_sheet_height|sprite_width|sprite_height|classification|description|difficulty|mapid|description|\n",
      "+----+--------+----------+-----------+----------+------------------+-------------------+------------+-------------+--------------+-----------+----------+-----+-----------+\n",
      "+----+--------+----------+-----------+----------+------------------+-------------------+------------+-------------+--------------+-----------+----------+-----+-----------+\n",
      "\n"
     ]
    }
   ],
   "source": [
    "from pyspark.sql.functions import broadcast\n",
    "\n",
    "medals_with_maps = medals.join(broadcast(maps),\"name\")\n",
    "medals_with_maps.show()"
   ]
  },
  {
   "cell_type": "code",
   "execution_count": 5,
   "id": "5b246bc7-6f90-49db-bb91-1b5048621391",
   "metadata": {},
   "outputs": [
    {
     "name": "stderr",
     "output_type": "stream",
     "text": [
      "                                                                                "
     ]
    }
   ],
   "source": [
    "from pyspark.sql.functions import bucket\n",
    "\n",
    "\n",
    "matches = spark.read.option(\"header\", \"true\").option(\"inferSchema\", \"true\").csv(\"/home/iceberg/data/matches.csv\")\n",
    "# matches.show()\n"
   ]
  },
  {
   "cell_type": "code",
   "execution_count": 6,
   "id": "1b0fbfb1-037c-416f-807b-1c2bc6fe5dd2",
   "metadata": {},
   "outputs": [
    {
     "name": "stderr",
     "output_type": "stream",
     "text": [
      "25/08/27 19:21:03 WARN SparkSession: Using an existing Spark session; only runtime SQL configurations will take effect.\n"
     ]
    },
    {
     "data": {
      "text/html": [
       "<table>\n",
       "    <thead>\n",
       "        <tr>\n",
       "        </tr>\n",
       "    </thead>\n",
       "    <tbody>\n",
       "    </tbody>\n",
       "</table>"
      ],
      "text/plain": [
       "++\n",
       "||\n",
       "++\n",
       "++"
      ]
     },
     "execution_count": 6,
     "metadata": {},
     "output_type": "execute_result"
    }
   ],
   "source": [
    "%%sql\n",
    "DROP TABLE IF EXISTS bootcamp.matches_bucketed"
   ]
  },
  {
   "cell_type": "code",
   "execution_count": 7,
   "id": "99ab1e47-c313-424e-b885-4d9515584841",
   "metadata": {},
   "outputs": [
    {
     "data": {
      "text/html": [
       "<table>\n",
       "    <thead>\n",
       "        <tr>\n",
       "        </tr>\n",
       "    </thead>\n",
       "    <tbody>\n",
       "    </tbody>\n",
       "</table>"
      ],
      "text/plain": [
       "++\n",
       "||\n",
       "++\n",
       "++"
      ]
     },
     "execution_count": 7,
     "metadata": {},
     "output_type": "execute_result"
    }
   ],
   "source": [
    "%%sql\n",
    "CREATE TABLE\n",
    "  IF NOT EXISTS bootcamp.matches_bucketed (\n",
    "    match_id STRING,\n",
    "    mapid STRING,\n",
    "    is_team_game BOOLEAN,\n",
    "    playlist_id STRING,\n",
    "    game_variant_id STRING,\n",
    "    is_match_over BOOLEAN,\n",
    "    completion_date TIMESTAMP,\n",
    "    match_duration STRING,\n",
    "    game_mode STRING,\n",
    "    map_variant_id STRING\n",
    "  ) USING iceberg PARTITIONED BY (bucket(16, match_id))"
   ]
  },
  {
   "cell_type": "code",
   "execution_count": 8,
   "id": "b71008f3-ff2e-4e4c-afc8-2803f45ac6a7",
   "metadata": {},
   "outputs": [
    {
     "name": "stderr",
     "output_type": "stream",
     "text": [
      "                                                                                "
     ]
    }
   ],
   "source": [
    "matches.write.mode(\"append\").bucketBy(16,\"match_id\").saveAsTable(\"bootcamp.matches_bucketed\")"
   ]
  },
  {
   "cell_type": "code",
   "execution_count": 9,
   "id": "7fa1b295-6dbe-46b0-8f4f-c9f6f8001a09",
   "metadata": {},
   "outputs": [
    {
     "data": {
      "text/html": [
       "<table>\n",
       "    <thead>\n",
       "        <tr>\n",
       "            <th>count(1)</th>\n",
       "        </tr>\n",
       "    </thead>\n",
       "    <tbody>\n",
       "        <tr>\n",
       "            <td>16</td>\n",
       "        </tr>\n",
       "    </tbody>\n",
       "</table>"
      ],
      "text/plain": [
       "+----------+\n",
       "| count(1) |\n",
       "+----------+\n",
       "|       16 |\n",
       "+----------+"
      ]
     },
     "execution_count": 9,
     "metadata": {},
     "output_type": "execute_result"
    }
   ],
   "source": [
    "%%sql\n",
    "SELECT\n",
    "  COUNT(1)\n",
    "FROM\n",
    "  bootcamp.matches_bucketed.files"
   ]
  },
  {
   "cell_type": "code",
   "execution_count": 10,
   "id": "720eeafc-2a06-463e-bccf-44ec7e4bf877",
   "metadata": {},
   "outputs": [
    {
     "name": "stderr",
     "output_type": "stream",
     "text": [
      "                                                                                "
     ]
    }
   ],
   "source": [
    "\n",
    "match_details = spark.read.option(\"header\",\"true\").option(\"inferSchema\", \"true\").csv(\"/home/iceberg/data/match_details.csv\")\n",
    "# match_details.show()\n"
   ]
  },
  {
   "cell_type": "code",
   "execution_count": 11,
   "id": "8b4aff89-548f-4dcd-a595-e7ba55c1635f",
   "metadata": {},
   "outputs": [
    {
     "data": {
      "text/html": [
       "<table>\n",
       "    <thead>\n",
       "        <tr>\n",
       "        </tr>\n",
       "    </thead>\n",
       "    <tbody>\n",
       "    </tbody>\n",
       "</table>"
      ],
      "text/plain": [
       "++\n",
       "||\n",
       "++\n",
       "++"
      ]
     },
     "execution_count": 11,
     "metadata": {},
     "output_type": "execute_result"
    }
   ],
   "source": [
    "%%sql\n",
    "DROP TABLE IF EXISTS bootcamp.match_details_bucketed"
   ]
  },
  {
   "cell_type": "code",
   "execution_count": 12,
   "id": "aa528654-08da-4d4c-b9ee-88977fe32a1d",
   "metadata": {},
   "outputs": [
    {
     "name": "stderr",
     "output_type": "stream",
     "text": [
      "25/08/27 19:21:12 WARN SparkStringUtils: Truncated the string representation of a plan since it was too large. This behavior can be adjusted by setting 'spark.sql.debug.maxToStringFields'.\n"
     ]
    },
    {
     "data": {
      "text/html": [
       "<table>\n",
       "    <thead>\n",
       "        <tr>\n",
       "        </tr>\n",
       "    </thead>\n",
       "    <tbody>\n",
       "    </tbody>\n",
       "</table>"
      ],
      "text/plain": [
       "++\n",
       "||\n",
       "++\n",
       "++"
      ]
     },
     "execution_count": 12,
     "metadata": {},
     "output_type": "execute_result"
    }
   ],
   "source": [
    "%%sql\n",
    "CREATE TABLE\n",
    "  IF NOT EXISTS bootcamp.match_details_bucketed (\n",
    "    match_id STRING,\n",
    "    player_gamertag STRING,\n",
    "    previous_spartan_rank INTEGER,\n",
    "    spartan_rank INTEGER,\n",
    "    previous_total_xp INTEGER,\n",
    "    total_xp INTEGER,\n",
    "    previous_csr_tier STRING,\n",
    "    previous_csr_designation STRING,\n",
    "    previous_csr INTEGER,\n",
    "    previous_csr_percent_to_next_tier STRING,\n",
    "    previous_csr_rank INTEGER,\n",
    "    current_csr_tier STRING,\n",
    "    current_csr_designation STRING,\n",
    "    current_csr INTEGER,\n",
    "    current_csr_percent_to_next_tier STRING,\n",
    "    current_csr_rank INTEGER,\n",
    "    player_rank_on_team STRING,\n",
    "    player_finished BOOLEAN,\n",
    "    player_average_life STRING,\n",
    "    player_total_kills INTEGER,\n",
    "    player_total_headshots INTEGER,\n",
    "    player_total_weapon_damage FLOAT,\n",
    "    player_total_shots_landed INTEGER,\n",
    "    player_total_melee_kills INTEGER,\n",
    "    player_total_melee_damage FLOAT,\n",
    "    player_total_assassinations INTEGER,\n",
    "    player_total_ground_pound_kills INTEGER,\n",
    "    player_total_shoulder_bash_kills INTEGER,\n",
    "    player_total_grenade_damage FLOAT,\n",
    "    player_total_power_weapon_damage FLOAT,\n",
    "    player_total_power_weapon_grabs INTEGER,\n",
    "    player_total_deaths INTEGER,\n",
    "    player_total_assists INTEGER,\n",
    "    player_total_grenade_kills INTEGER,\n",
    "    did_win INTEGER,\n",
    "    team_id STRING\n",
    "  ) USING iceberg PARTITIONED BY (bucket(16, match_id));"
   ]
  },
  {
   "cell_type": "code",
   "execution_count": 13,
   "id": "26eeec34-2a43-49e0-ba36-5fc852e856aa",
   "metadata": {},
   "outputs": [
    {
     "name": "stderr",
     "output_type": "stream",
     "text": [
      "                                                                                "
     ]
    }
   ],
   "source": [
    "match_details.write.mode(\"append\").bucketBy(16,\"match_id\").saveAsTable(\"bootcamp.match_details_bucketed\")"
   ]
  },
  {
   "cell_type": "code",
   "execution_count": null,
   "id": "ab80ec72",
   "metadata": {},
   "outputs": [],
   "source": []
  },
  {
   "cell_type": "code",
   "execution_count": 14,
   "id": "42ebd325-5e10-478c-bb05-08552e089556",
   "metadata": {},
   "outputs": [
    {
     "data": {
      "text/html": [
       "<table>\n",
       "    <thead>\n",
       "        <tr>\n",
       "            <th>size</th>\n",
       "            <th>num_files</th>\n",
       "            <th>sorted</th>\n",
       "        </tr>\n",
       "    </thead>\n",
       "    <tbody>\n",
       "        <tr>\n",
       "            <td>7136552</td>\n",
       "            <td>16</td>\n",
       "            <td>sorted</td>\n",
       "        </tr>\n",
       "    </tbody>\n",
       "</table>"
      ],
      "text/plain": [
       "+---------+-----------+--------+\n",
       "|    size | num_files | sorted |\n",
       "+---------+-----------+--------+\n",
       "| 7136552 |        16 | sorted |\n",
       "+---------+-----------+--------+"
      ]
     },
     "execution_count": 14,
     "metadata": {},
     "output_type": "execute_result"
    }
   ],
   "source": [
    "%%sql\n",
    "SELECT\n",
    "  SUM(file_size_in_bytes) AS size,\n",
    "  COUNT(1) AS num_files,\n",
    "  'sorted'\n",
    "FROM\n",
    "  bootcamp.match_details_bucketed.files"
   ]
  },
  {
   "cell_type": "code",
   "execution_count": 15,
   "id": "f912e7eb-4c45-477e-ac73-45f922a9f3eb",
   "metadata": {},
   "outputs": [
    {
     "name": "stderr",
     "output_type": "stream",
     "text": [
      "                                                                                "
     ]
    }
   ],
   "source": [
    "\n",
    "medals_matches_players = spark.read.option(\"header\",\"true\").option(\"inferSchema\", \"true\").csv(\"/home/iceberg/data/medals_matches_players.csv\")\n",
    "# medals_matches_players.show()"
   ]
  },
  {
   "cell_type": "code",
   "execution_count": 16,
   "id": "39c057af-e521-4384-9ad7-6376cd6dc0eb",
   "metadata": {},
   "outputs": [
    {
     "data": {
      "text/html": [
       "<table>\n",
       "    <thead>\n",
       "        <tr>\n",
       "        </tr>\n",
       "    </thead>\n",
       "    <tbody>\n",
       "    </tbody>\n",
       "</table>"
      ],
      "text/plain": [
       "++\n",
       "||\n",
       "++\n",
       "++"
      ]
     },
     "execution_count": 16,
     "metadata": {},
     "output_type": "execute_result"
    }
   ],
   "source": [
    "%%sql\n",
    "DROP TABLE IF EXISTS bootcamp.medals_matches_players_bucketed"
   ]
  },
  {
   "cell_type": "code",
   "execution_count": 17,
   "id": "b8374570-ae70-4494-bcad-aa924697806d",
   "metadata": {},
   "outputs": [
    {
     "data": {
      "text/html": [
       "<table>\n",
       "    <thead>\n",
       "        <tr>\n",
       "        </tr>\n",
       "    </thead>\n",
       "    <tbody>\n",
       "    </tbody>\n",
       "</table>"
      ],
      "text/plain": [
       "++\n",
       "||\n",
       "++\n",
       "++"
      ]
     },
     "execution_count": 17,
     "metadata": {},
     "output_type": "execute_result"
    }
   ],
   "source": [
    "%%sql\n",
    "CREATE TABLE\n",
    "  IF NOT EXISTS bootcamp.medals_matches_players_bucketed (\n",
    "    match_id STRING,\n",
    "    player_gamertag STRING,\n",
    "    medal_id STRING,\n",
    "    COUNT INTEGER\n",
    "  ) USING iceberg PARTITIONED BY (bucket(16, match_id))"
   ]
  },
  {
   "cell_type": "code",
   "execution_count": 18,
   "id": "7a68ff9c-a9b9-483d-a4df-0784b3610637",
   "metadata": {},
   "outputs": [
    {
     "name": "stderr",
     "output_type": "stream",
     "text": [
      "                                                                                "
     ]
    }
   ],
   "source": [
    "medals_matches_players.write.mode(\"append\").bucketBy(16,\"match_id\").saveAsTable(\"bootcamp.medals_matches_players_bucketed\")"
   ]
  },
  {
   "cell_type": "code",
   "execution_count": 19,
   "id": "e6bf02b3-6e05-40f7-8208-9a6f0b6bd838",
   "metadata": {},
   "outputs": [
    {
     "data": {
      "text/html": [
       "<table>\n",
       "    <thead>\n",
       "        <tr>\n",
       "            <th>size</th>\n",
       "            <th>num_files</th>\n",
       "            <th>sorted</th>\n",
       "        </tr>\n",
       "    </thead>\n",
       "    <tbody>\n",
       "        <tr>\n",
       "            <td>2912283</td>\n",
       "            <td>16</td>\n",
       "            <td>sorted</td>\n",
       "        </tr>\n",
       "    </tbody>\n",
       "</table>"
      ],
      "text/plain": [
       "+---------+-----------+--------+\n",
       "|    size | num_files | sorted |\n",
       "+---------+-----------+--------+\n",
       "| 2912283 |        16 | sorted |\n",
       "+---------+-----------+--------+"
      ]
     },
     "execution_count": 19,
     "metadata": {},
     "output_type": "execute_result"
    }
   ],
   "source": [
    "%%sql\n",
    "SELECT\n",
    "  SUM(file_size_in_bytes) AS size,\n",
    "  COUNT(1) AS num_files,\n",
    "  'sorted'\n",
    "FROM\n",
    "  bootcamp.medals_matches_players_bucketed.files"
   ]
  },
  {
   "cell_type": "code",
   "execution_count": 20,
   "id": "8b9daf83-370e-4b15-adc9-b992dd4afaa1",
   "metadata": {},
   "outputs": [
    {
     "name": "stdout",
     "output_type": "stream",
     "text": [
      "== Physical Plan ==\n",
      "AdaptiveSparkPlan isFinalPlan=false\n",
      "+- Project [match_id#604, player_gamertag#605, previous_spartan_rank#606, spartan_rank#607, previous_total_xp#608, total_xp#609, previous_csr_tier#610, previous_csr_designation#611, previous_csr#612, previous_csr_percent_to_next_tier#613, previous_csr_rank#614, current_csr_tier#615, current_csr_designation#616, current_csr#617, current_csr_percent_to_next_tier#618, current_csr_rank#619, player_rank_on_team#620, player_finished#621, player_average_life#622, player_total_kills#623, player_total_headshots#624, player_total_weapon_damage#625, player_total_shots_landed#626, player_total_melee_kills#627, ... 24 more fields]\n",
      "   +- SortMergeJoin [match_id#604], [match_id#696], Inner\n",
      "      :- Project [match_id#604, player_gamertag#605, previous_spartan_rank#606, spartan_rank#607, previous_total_xp#608, total_xp#609, previous_csr_tier#610, previous_csr_designation#611, previous_csr#612, previous_csr_percent_to_next_tier#613, previous_csr_rank#614, current_csr_tier#615, current_csr_designation#616, current_csr#617, current_csr_percent_to_next_tier#618, current_csr_rank#619, player_rank_on_team#620, player_finished#621, player_average_life#622, player_total_kills#623, player_total_headshots#624, player_total_weapon_damage#625, player_total_shots_landed#626, player_total_melee_kills#627, ... 21 more fields]\n",
      "      :  +- SortMergeJoin [match_id#604], [match_id#676], Inner\n",
      "      :     :- Sort [match_id#604 ASC NULLS FIRST], false, 0\n",
      "      :     :  +- Exchange hashpartitioning(match_id#604, 200), ENSURE_REQUIREMENTS, [plan_id=507]\n",
      "      :     :     +- BatchScan demo.bootcamp.match_details_bucketed[match_id#604, player_gamertag#605, previous_spartan_rank#606, spartan_rank#607, previous_total_xp#608, total_xp#609, previous_csr_tier#610, previous_csr_designation#611, previous_csr#612, previous_csr_percent_to_next_tier#613, previous_csr_rank#614, current_csr_tier#615, current_csr_designation#616, current_csr#617, current_csr_percent_to_next_tier#618, current_csr_rank#619, player_rank_on_team#620, player_finished#621, player_average_life#622, player_total_kills#623, player_total_headshots#624, player_total_weapon_damage#625, player_total_shots_landed#626, player_total_melee_kills#627, ... 12 more fields] demo.bootcamp.match_details_bucketed (branch=null) [filters=match_id IS NOT NULL, groupedBy=] RuntimeFilters: []\n",
      "      :     +- Sort [match_id#676 ASC NULLS FIRST], false, 0\n",
      "      :        +- Exchange hashpartitioning(match_id#676, 200), ENSURE_REQUIREMENTS, [plan_id=508]\n",
      "      :           +- BatchScan demo.bootcamp.matches_bucketed[match_id#676, mapid#677, is_team_game#678, playlist_id#679, game_variant_id#680, is_match_over#681, completion_date#682, match_duration#683, game_mode#684, map_variant_id#685] demo.bootcamp.matches_bucketed (branch=null) [filters=match_id IS NOT NULL, groupedBy=] RuntimeFilters: []\n",
      "      +- Sort [match_id#696 ASC NULLS FIRST], false, 0\n",
      "         +- Exchange hashpartitioning(match_id#696, 200), ENSURE_REQUIREMENTS, [plan_id=515]\n",
      "            +- BatchScan demo.bootcamp.medals_matches_players_bucketed[match_id#696, player_gamertag#697, medal_id#698, COUNT#699] demo.bootcamp.medals_matches_players_bucketed (branch=null) [filters=match_id IS NOT NULL, groupedBy=] RuntimeFilters: []\n",
      "\n",
      "\n"
     ]
    }
   ],
   "source": [
    "match_details_bucketed = spark.table(\"bootcamp.match_details_bucketed\")\n",
    "matches_bucketed = spark.table(\"bootcamp.matches_bucketed\")\n",
    "medals_matches_players_bucketed = spark.table(\"bootcamp.medals_matches_players_bucketed\")\n",
    "\n",
    "df = match_details_bucketed.join(matches_bucketed, \"match_id\").join(medals_matches_players_bucketed,\"match_id\")\n",
    "df.explain()"
   ]
  },
  {
   "cell_type": "code",
   "execution_count": null,
   "id": "1d146fc9-8e0e-4048-b6c1-2017869755c9",
   "metadata": {},
   "outputs": [],
   "source": []
  }
 ],
 "metadata": {
  "kernelspec": {
   "display_name": "Python 3 (ipykernel)",
   "language": "python",
   "name": "python3"
  },
  "language_info": {
   "codemirror_mode": {
    "name": "ipython",
    "version": 3
   },
   "file_extension": ".py",
   "mimetype": "text/x-python",
   "name": "python",
   "nbconvert_exporter": "python",
   "pygments_lexer": "ipython3",
   "version": "3.10.16"
  }
 },
 "nbformat": 4,
 "nbformat_minor": 5
}
