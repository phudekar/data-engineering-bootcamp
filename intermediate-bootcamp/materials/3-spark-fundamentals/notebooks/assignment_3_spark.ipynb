{
 "cells": [
  {
   "cell_type": "code",
   "execution_count": 4,
   "id": "b7c0e116-7495-4cb1-8ed1-f34432b43808",
   "metadata": {},
   "outputs": [],
   "source": [
    "from pyspark.sql import SparkSession\n",
    "from pyspark.sql.functions import expr, col\n",
    "spark = SparkSession.builder.appName(\"SparkHomework\").getOrCreate()\n",
    "\n",
    "spark\n",
    "\n",
    "spark.conf.set(\"spark.sql.autoBroadcastJoinThreshold\", \"-1\")\n",
    "spark.conf.set(\"spark.sql.bucketing.enabled\", \"1\")\n",
    "\n",
    "maps = spark.read.option(\"header\", \"true\").csv(\"/home/iceberg/data/maps.csv\").select(col(\"mapid\"), col(\"name\").alias(\"map_name\"), col(\"description\").alias(\"map_description\"))\n",
    "medals = spark.read.option(\"header\",\"true\").csv(\"/home/iceberg/data/medals.csv\")\n",
    "medals_matches_players = spark.read.option(\"header\", \"true\").csv(\"/home/iceberg/data/medals_matches_players.csv\")\n",
    "matches = spark.read.option(\"header\", \"true\").csv(\"/home/iceberg/data/matches.csv\")\n"
   ]
  },
  {
   "cell_type": "code",
   "execution_count": 5,
   "id": "4f69d709-d2ef-45bd-9c9c-61d3b005fbb0",
   "metadata": {},
   "outputs": [
    {
     "name": "stdout",
     "output_type": "stream",
     "text": [
      "40\n",
      "+--------------------+-------------------+--------------------+\n",
      "|               mapid|           map_name|     map_description|\n",
      "+--------------------+-------------------+--------------------+\n",
      "|c93d708f-f206-11e...|              Urban|Andesia was the c...|\n",
      "|cb251c51-f206-11e...|     Raid on Apex 7|This unbroken rin...|\n",
      "|c854e54f-f206-11e...|March on Stormbreak|                NULL|\n",
      "|c8d69870-f206-11e...| Escape from A.R.C.|Scientists flocke...|\n",
      "|73ed1fd0-45e5-4bb...|             Osiris|                NULL|\n",
      "|96c3e3dd-7703-408...|          Blue Team|                NULL|\n",
      "|1c4f8e19-b046-4f7...|            Glassed|                NULL|\n",
      "|825065cf-df57-42e...|        Unconfirmed|                NULL|\n",
      "|9a188f67-1664-4d7...|           Alliance|                NULL|\n",
      "|2702ea83-2c3e-4fd...|   Before the Storm|                NULL|\n",
      "|82f8471c-a2ef-408...|            Genesis|                NULL|\n",
      "|fcd7caa4-37c9-436...|       The Breaking|                NULL|\n",
      "|7dc80b62-dd39-41d...|          Guardians|                NULL|\n",
      "|db9f76c4-6f9a-4c1...|   Meridian Station|                NULL|\n",
      "|b486c8f6-0b00-4a4...|         Evacuation|                NULL|\n",
      "|37c717b8-7ae8-4be...|            Reunion|                NULL|\n",
      "|72c98d4a-4ee4-40d...|Sword of Sanghelios|                NULL|\n",
      "|f352eafd-d307-434...|        Enemy Lines|                NULL|\n",
      "|8d72dd82-3afb-409...|  Battle of Sunaion|                NULL|\n",
      "|c822b1c0-f206-11e...|             Summit|The half-real spa...|\n",
      "+--------------------+-------------------+--------------------+\n",
      "only showing top 20 rows\n",
      "\n"
     ]
    }
   ],
   "source": [
    "print(maps.count())\n",
    "maps.show()"
   ]
  },
  {
   "cell_type": "code",
   "execution_count": 7,
   "id": "d1bbf152-b5e4-4400-98e6-0b513d2419fc",
   "metadata": {},
   "outputs": [
    {
     "name": "stderr",
     "output_type": "stream",
     "text": [
      "                                                                                "
     ]
    },
    {
     "name": "stdout",
     "output_type": "stream",
     "text": [
      "755229\n",
      "+--------------------+---------------+----------+-----+\n",
      "|            match_id|player_gamertag|  medal_id|count|\n",
      "+--------------------+---------------+----------+-----+\n",
      "|009fdac5-e15c-47c...|       EcZachly|3261908037|    7|\n",
      "|009fdac5-e15c-47c...|       EcZachly| 824733727|    2|\n",
      "|009fdac5-e15c-47c...|       EcZachly|2078758684|    2|\n",
      "|009fdac5-e15c-47c...|       EcZachly|2782465081|    2|\n",
      "|9169d1a3-955c-4ea...|       EcZachly|3001183151|    1|\n",
      "|9169d1a3-955c-4ea...|       EcZachly|3565443938|    6|\n",
      "|9169d1a3-955c-4ea...|       EcZachly|3491849182|    1|\n",
      "|4a078b2f-65eb-4c6...|       EcZachly|3261908037|    8|\n",
      "|9169d1a3-955c-4ea...|       EcZachly|2105198095|    6|\n",
      "|9169d1a3-955c-4ea...|       EcZachly|2916014239|    3|\n",
      "|9169d1a3-955c-4ea...|       EcZachly|3261908037|    6|\n",
      "|9169d1a3-955c-4ea...|       EcZachly|1351381581|    2|\n",
      "|9169d1a3-955c-4ea...|       EcZachly|2838259753|    1|\n",
      "|9169d1a3-955c-4ea...|       EcZachly|3354395650|    1|\n",
      "|9169d1a3-955c-4ea...|       EcZachly| 298813630|    1|\n",
      "|9169d1a3-955c-4ea...|       EcZachly|2430242797|    1|\n",
      "|5ae5a459-6372-491...|       EcZachly|3261908037|    9|\n",
      "|5ae5a459-6372-491...|       EcZachly|2078758684|    2|\n",
      "|5ae5a459-6372-491...|       EcZachly| 824733727|    1|\n",
      "|5ae5a459-6372-491...|       EcZachly|1080468863|    1|\n",
      "+--------------------+---------------+----------+-----+\n",
      "only showing top 20 rows\n",
      "\n"
     ]
    }
   ],
   "source": [
    "print(medals_matches_players.count())\n",
    "medals_matches_players.show()"
   ]
  },
  {
   "cell_type": "code",
   "execution_count": 8,
   "id": "d4e68326-55ba-495f-acab-358771f346e8",
   "metadata": {},
   "outputs": [
    {
     "name": "stdout",
     "output_type": "stream",
     "text": [
      "24025\n",
      "+--------------------+--------------------+------------+--------------------+--------------------+-------------+--------------------+--------------+---------+--------------------+\n",
      "|            match_id|               mapid|is_team_game|         playlist_id|     game_variant_id|is_match_over|     completion_date|match_duration|game_mode|      map_variant_id|\n",
      "+--------------------+--------------------+------------+--------------------+--------------------+-------------+--------------------+--------------+---------+--------------------+\n",
      "|11de1a94-8d07-416...|c7edbf0f-f206-11e...|        true|f72e0ef0-7c4a-430...|1e473914-46e4-408...|         true|2016-02-22 00:00:...|          NULL|     NULL|                NULL|\n",
      "|d3643e71-3e51-43e...|cb914b9e-f206-11e...|       false|d0766624-dbd7-453...|257a305e-4dd3-41f...|         true|2016-02-14 00:00:...|          NULL|     NULL|                NULL|\n",
      "|d78d2aae-36e4-48a...|c7edbf0f-f206-11e...|        true|f72e0ef0-7c4a-430...|1e473914-46e4-408...|         true|2016-03-24 00:00:...|          NULL|     NULL|55e5ee2e-88df-465...|\n",
      "|b440069e-ec5f-4f5...|c7edbf0f-f206-11e...|        true|f72e0ef0-7c4a-430...|1e473914-46e4-408...|         true|2015-12-23 00:00:...|          NULL|     NULL|ec3eef73-13e3-4d4...|\n",
      "|1dd475fc-ee6b-4e1...|c93d708f-f206-11e...|        true|0e39ead4-383b-445...|42f97cca-2cb4-497...|         true|2016-04-07 00:00:...|          NULL|     NULL|                NULL|\n",
      "|848f02ad-72ef-479...|cbcea2c0-f206-11e...|        true|2323b76a-db98-4e0...|257a305e-4dd3-41f...|         true|2016-03-17 00:00:...|          NULL|     NULL|                NULL|\n",
      "|e207adc1-4d7a-43a...|cc74f4e1-f206-11e...|        true|2323b76a-db98-4e0...|257a305e-4dd3-41f...|         true|2016-04-05 00:00:...|          NULL|     NULL|                NULL|\n",
      "|1fb5c2ec-ca60-434...|ca737f8f-f206-11e...|        true|bc0f8ad6-31e6-4a1...|257a305e-4dd3-41f...|         true|2015-12-16 00:00:...|          NULL|     NULL|                NULL|\n",
      "|54f1cbd2-2be6-4d5...|cbcea2c0-f206-11e...|        NULL|892189e9-d712-4bd...|257a305e-4dd3-41f...|         NULL|2016-02-04 00:00:...|          NULL|     NULL|7108c409-6d1e-41d...|\n",
      "|9e079488-1355-4c6...|c74c9d0f-f206-11e...|        true|0bcf2be1-3168-4e4...|b45854a7-e6e1-4a9...|         true|2015-11-22 00:00:...|          NULL|     NULL|1c632c30-3994-444...|\n",
      "|e17af58c-ee3d-4a7...|cbcea2c0-f206-11e...|        NULL|2323b76a-db98-4e0...|257a305e-4dd3-41f...|         NULL|2016-02-04 00:00:...|          NULL|     NULL|7108c409-6d1e-41d...|\n",
      "|22027c64-d45a-48a...|ca737f8f-f206-11e...|        NULL|d0766624-dbd7-453...|257a305e-4dd3-41f...|         NULL|2016-02-04 00:00:...|          NULL|     NULL|1ebdebca-e1f8-48f...|\n",
      "|8483565b-14d1-460...|c7805740-f206-11e...|        NULL|f72e0ef0-7c4a-430...|1e473914-46e4-408...|         NULL|2016-02-04 00:00:...|          NULL|     NULL|b5f6104e-3a99-438...|\n",
      "|bc8f0d7a-cf4b-4a2...|c7edbf0f-f206-11e...|        NULL|f72e0ef0-7c4a-430...|1e473914-46e4-408...|         NULL|2016-02-04 00:00:...|          NULL|     NULL|7248ebbd-cd40-456...|\n",
      "|f60f9d91-42c9-4a0...|cdb934b0-f206-11e...|        NULL|f72e0ef0-7c4a-430...|1e473914-46e4-408...|         NULL|2016-02-04 00:00:...|          NULL|     NULL|                NULL|\n",
      "|ad4a5b9d-7127-404...|c7edbf0f-f206-11e...|        true|f72e0ef0-7c4a-430...|1e473914-46e4-408...|         true|2016-02-13 00:00:...|          NULL|     NULL|d591e5ba-a0db-4bf...|\n",
      "|f44c9997-eb6f-4d6...|ce1dc2de-f206-11e...|        true|0504ca3c-de41-48f...|b0df8938-0fb6-42e...|         true|2016-02-28 00:00:...|          NULL|     NULL|d5a6277a-96d5-499...|\n",
      "|5d8c7557-5347-451...|cdb934b0-f206-11e...|        NULL|d0766624-dbd7-453...|257a305e-4dd3-41f...|         NULL|2016-02-04 00:00:...|          NULL|     NULL|                NULL|\n",
      "|89b24a08-8588-464...|cdb934b0-f206-11e...|        NULL|d0766624-dbd7-453...|257a305e-4dd3-41f...|         NULL|2016-02-04 00:00:...|          NULL|     NULL|                NULL|\n",
      "|01805fa5-bd7c-462...|cdb934b0-f206-11e...|        NULL|f72e0ef0-7c4a-430...|1e473914-46e4-408...|         NULL|2016-02-04 00:00:...|          NULL|     NULL|                NULL|\n",
      "+--------------------+--------------------+------------+--------------------+--------------------+-------------+--------------------+--------------+---------+--------------------+\n",
      "only showing top 20 rows\n",
      "\n"
     ]
    }
   ],
   "source": [
    "print(matches.count())\n",
    "matches.show()"
   ]
  },
  {
   "cell_type": "code",
   "execution_count": 9,
   "id": "7fd12c87-aefa-4016-b479-a7999b5bbbca",
   "metadata": {},
   "outputs": [
    {
     "name": "stdout",
     "output_type": "stream",
     "text": [
      "183\n",
      "+----------+--------------------+-----------+----------+------------------+-------------------+------------+-------------+-----------------+--------------------+--------------+----------+\n",
      "|  medal_id|          sprite_uri|sprite_left|sprite_top|sprite_sheet_width|sprite_sheet_height|sprite_width|sprite_height|   classification|         description|          name|difficulty|\n",
      "+----------+--------------------+-----------+----------+------------------+-------------------+------------+-------------+-----------------+--------------------+--------------+----------+\n",
      "|2315448068|                NULL|       NULL|      NULL|              NULL|               NULL|        NULL|         NULL|             NULL|                NULL|          NULL|      NULL|\n",
      "|3565441934|                NULL|       NULL|      NULL|              NULL|               NULL|        NULL|         NULL|             NULL|                NULL|          NULL|      NULL|\n",
      "|4162659350|https://content.h...|        750|       750|                74|                 74|        1125|          899|         Breakout|Kill the last ene...| Buzzer Beater|        45|\n",
      "|1573153198|https://content.h...|          0|       300|                74|                 74|        1125|          899|         Breakout|Survive a one-on-...|    Vanquisher|        30|\n",
      "| 298813630|https://content.h...|          0|       825|                74|                 74|        1125|          899|            Style|Kill an enemy wit...|Spartan Charge|       135|\n",
      "|3824002610|https://content.h...|        750|       600|                74|                 74|        1125|          899|         Vehicles|Assist a player i...|  Ghost Assist|       140|\n",
      "|3324603383|https://content.h...|        225|       750|                74|                 74|        1125|          899|          Warzone|       Kill a Grunt.|    Grunt Kill|        60|\n",
      "| 979431049|https://content.h...|        975|       675|                74|                 74|        1125|          899|         Breakout|Survive a two-on-...|       Bifecta|        25|\n",
      "|3098362934|https://content.h...|        150|       750|                74|                 74|        1125|          899|WeaponProficiency|Kill a player in ...|  Perfect Kill|        25|\n",
      "|2435743433|https://content.h...|        750|       225|                74|                 74|        1125|          899|          Warzone|Kill an enemy in ...|  Base Defense|        30|\n",
      "|2430242797|https://content.h...|        675|       300|                74|                 74|        1125|          899|     KillingSpree|Kill 5 opponents ...| Killing Spree|        45|\n",
      "|1427531503|https://content.h...|        375|         0|                74|                 74|        1125|          899|            Style|Assist in a Team ...| Team Takedown|       245|\n",
      "|2359847435|https://content.h...|        525|       375|                74|                 74|        1125|          899|         Breakout|Kill every member...|    Extinction|        35|\n",
      "|1691836029|https://content.h...|        150|       375|                74|                 74|        1350|          824|            Style|Recharge your shi...|   Hard Target|       105|\n",
      "|2766284219|https://content.h...|        150|       525|                74|                 74|        1125|          899|            Style|Kill an opponent ...|     Quickdraw|       200|\n",
      "|3354395650|https://content.h...|        375|       600|                74|                 74|        1125|          899|      Strongholds|Capture 3 Strongh...| Capture Spree|        10|\n",
      "|2564994165|                NULL|       NULL|      NULL|              NULL|               NULL|        NULL|         NULL|WeaponProficiency|Pick up 3 power w...|Big Gun Runner|        75|\n",
      "|2896365521|https://content.h...|        300|       450|                74|                 74|        1125|          899|            Style|Assist in a Team ...| Team Takedown|       245|\n",
      "|3786961025|https://content.h...|        900|       450|                74|                 74|        1125|          899|            Style|Kill an opponent ...|      Fastball|        65|\n",
      "| 243900335|https://content.h...|        750|       375|                74|                 74|        1350|          824|WeaponProficiency|Kill an enemy by ...|  Shotgun Kill|       110|\n",
      "+----------+--------------------+-----------+----------+------------------+-------------------+------------+-------------+-----------------+--------------------+--------------+----------+\n",
      "only showing top 20 rows\n",
      "\n"
     ]
    }
   ],
   "source": [
    "print(medals.count())\n",
    "medals.show()\n"
   ]
  },
  {
   "cell_type": "code",
   "execution_count": 10,
   "id": "5b246bc7-6f90-49db-bb91-1b5048621391",
   "metadata": {},
   "outputs": [],
   "source": [
    "from pyspark.sql.functions import bucket\n",
    "\n",
    "\n",
    "matches = spark.read.option(\"header\", \"true\").option(\"inferSchema\", \"true\").csv(\"/home/iceberg/data/matches.csv\")\n",
    "# matches.show()\n"
   ]
  },
  {
   "cell_type": "code",
   "execution_count": 11,
   "id": "1b0fbfb1-037c-416f-807b-1c2bc6fe5dd2",
   "metadata": {},
   "outputs": [
    {
     "name": "stderr",
     "output_type": "stream",
     "text": [
      "25/11/01 03:59:04 WARN SparkSession: Using an existing Spark session; only runtime SQL configurations will take effect.\n"
     ]
    },
    {
     "data": {
      "text/html": [
       "<table>\n",
       "    <thead>\n",
       "        <tr>\n",
       "        </tr>\n",
       "    </thead>\n",
       "    <tbody>\n",
       "    </tbody>\n",
       "</table>"
      ],
      "text/plain": [
       "++\n",
       "||\n",
       "++\n",
       "++"
      ]
     },
     "execution_count": 11,
     "metadata": {},
     "output_type": "execute_result"
    }
   ],
   "source": [
    "%%sql\n",
    "DROP TABLE IF EXISTS bootcamp.matches_bucketed"
   ]
  },
  {
   "cell_type": "code",
   "execution_count": 12,
   "id": "99ab1e47-c313-424e-b885-4d9515584841",
   "metadata": {},
   "outputs": [
    {
     "data": {
      "text/html": [
       "<table>\n",
       "    <thead>\n",
       "        <tr>\n",
       "        </tr>\n",
       "    </thead>\n",
       "    <tbody>\n",
       "    </tbody>\n",
       "</table>"
      ],
      "text/plain": [
       "++\n",
       "||\n",
       "++\n",
       "++"
      ]
     },
     "execution_count": 12,
     "metadata": {},
     "output_type": "execute_result"
    }
   ],
   "source": [
    "%%sql\n",
    "CREATE TABLE\n",
    "  IF NOT EXISTS bootcamp.matches_bucketed (\n",
    "    match_id STRING,\n",
    "    mapid STRING,\n",
    "    is_team_game BOOLEAN,\n",
    "    playlist_id STRING,\n",
    "    game_variant_id STRING,\n",
    "    is_match_over BOOLEAN,\n",
    "    completion_date TIMESTAMP,\n",
    "    match_duration STRING,\n",
    "    game_mode STRING,\n",
    "    map_variant_id STRING\n",
    "  ) USING iceberg PARTITIONED BY (bucket(16, match_id))"
   ]
  },
  {
   "cell_type": "code",
   "execution_count": 13,
   "id": "b71008f3-ff2e-4e4c-afc8-2803f45ac6a7",
   "metadata": {},
   "outputs": [
    {
     "name": "stderr",
     "output_type": "stream",
     "text": [
      "                                                                                "
     ]
    }
   ],
   "source": [
    "matches.write.mode(\"append\").bucketBy(16,\"match_id\").saveAsTable(\"bootcamp.matches_bucketed\")"
   ]
  },
  {
   "cell_type": "code",
   "execution_count": 14,
   "id": "7fa1b295-6dbe-46b0-8f4f-c9f6f8001a09",
   "metadata": {},
   "outputs": [
    {
     "data": {
      "text/html": [
       "<table>\n",
       "    <thead>\n",
       "        <tr>\n",
       "            <th>count(1)</th>\n",
       "        </tr>\n",
       "    </thead>\n",
       "    <tbody>\n",
       "        <tr>\n",
       "            <td>16</td>\n",
       "        </tr>\n",
       "    </tbody>\n",
       "</table>"
      ],
      "text/plain": [
       "+----------+\n",
       "| count(1) |\n",
       "+----------+\n",
       "|       16 |\n",
       "+----------+"
      ]
     },
     "execution_count": 14,
     "metadata": {},
     "output_type": "execute_result"
    }
   ],
   "source": [
    "%%sql\n",
    "SELECT\n",
    "  COUNT(1)\n",
    "FROM\n",
    "  bootcamp.matches_bucketed.files"
   ]
  },
  {
   "cell_type": "code",
   "execution_count": 15,
   "id": "720eeafc-2a06-463e-bccf-44ec7e4bf877",
   "metadata": {},
   "outputs": [
    {
     "name": "stderr",
     "output_type": "stream",
     "text": [
      "25/11/01 03:59:15 WARN SparkStringUtils: Truncated the string representation of a plan since it was too large. This behavior can be adjusted by setting 'spark.sql.debug.maxToStringFields'.\n"
     ]
    },
    {
     "name": "stdout",
     "output_type": "stream",
     "text": [
      "+--------------------+---------------+---------------------+------------+-----------------+--------+-----------------+------------------------+------------+---------------------------------+-----------------+----------------+-----------------------+-----------+--------------------------------+----------------+-------------------+---------------+-------------------+------------------+----------------------+--------------------------+-------------------------+------------------------+-------------------------+---------------------------+-------------------------------+--------------------------------+---------------------------+--------------------------------+-------------------------------+-------------------+--------------------+--------------------------+-------+-------+\n",
      "|            match_id|player_gamertag|previous_spartan_rank|spartan_rank|previous_total_xp|total_xp|previous_csr_tier|previous_csr_designation|previous_csr|previous_csr_percent_to_next_tier|previous_csr_rank|current_csr_tier|current_csr_designation|current_csr|current_csr_percent_to_next_tier|current_csr_rank|player_rank_on_team|player_finished|player_average_life|player_total_kills|player_total_headshots|player_total_weapon_damage|player_total_shots_landed|player_total_melee_kills|player_total_melee_damage|player_total_assassinations|player_total_ground_pound_kills|player_total_shoulder_bash_kills|player_total_grenade_damage|player_total_power_weapon_damage|player_total_power_weapon_grabs|player_total_deaths|player_total_assists|player_total_grenade_kills|did_win|team_id|\n",
      "+--------------------+---------------+---------------------+------------+-----------------+--------+-----------------+------------------------+------------+---------------------------------+-----------------+----------------+-----------------------+-----------+--------------------------------+----------------+-------------------+---------------+-------------------+------------------+----------------------+--------------------------+-------------------------+------------------------+-------------------------+---------------------------+-------------------------------+--------------------------------+---------------------------+--------------------------------+-------------------------------+-------------------+--------------------+--------------------------+-------+-------+\n",
      "|71d79b23-4143-435...|      taterbase|                    5|           5|            12537|   13383|                1|                       3|           0|                               98|             NULL|               2|                      3|          0|                              26|            NULL|                  4|          false|        PT14.81149S|                 6|                     4|                     255.0|                       28|                       0|                      0.0|                          0|                              0|                               0|                        0.0|                             0.0|                              0|                 13|                   1|                         0|      1|      1|\n",
      "|71d79b23-4143-435...| SuPeRSaYaInG0D|                   18|          18|           131943|  132557|                2|                       3|           0|                                2|             NULL|               1|                      3|          0|                              76|            NULL|                  7|          false|      PT11.2990845S|                 7|                     3|        350.58792304992676|                       49|                       1|                     45.0|                          0|                              0|                               0|                        0.0|                             0.0|                              0|                 18|                   2|                         0|      0|      0|\n",
      "|71d79b23-4143-435...|       EcZachly|                   21|          21|           168811|  169762|                2|                       5|           0|                               94|             NULL|               3|                      5|          0|                              24|            NULL|                  3|          false|      PT19.1357063S|                12|                    12|                     625.0|                       43|                       0|                      0.0|                          0|                              0|                               0|                        0.0|                             0.0|                              0|                 10|                   4|                         0|      1|      1|\n",
      "|71d79b23-4143-435...|    johnsnake04|                   14|          14|            64073|   64639|             NULL|                    NULL|        NULL|                             NULL|             NULL|            NULL|                   NULL|       NULL|                            NULL|            NULL|                  6|          false|      PT21.1521599S|                13|                    13|                     605.0|                       24|                       0|                      0.0|                          0|                              0|                               0|                        0.0|                             0.0|                              0|                  9|                   2|                         0|      0|      0|\n",
      "|71d79b23-4143-435...| Super Mac Bros|                   26|          26|           243425|  244430|                1|                       5|           0|                               86|             NULL|               2|                      5|          0|                               8|            NULL|                  2|          false|      PT12.8373793S|                13|                    12|                     595.0|                       32|                       1|       20.004501342773438|                          0|                              0|                               0|                        0.0|                             0.0|                              0|                 15|                   2|                         0|      1|      1|\n",
      "|71d79b23-4143-435...|   Wingspear0k8|                   18|          18|           129281|  129937|             NULL|                    NULL|        NULL|                             NULL|             NULL|               1|                      5|          0|                               0|            NULL|                  5|          false|      PT17.4531394S|                21|                    18|         822.8789710998535|                       53|                       2|        90.00449999980628|                          0|                              0|                               0|                        0.0|                             0.0|                              0|                 11|                   0|                         0|      0|      0|\n",
      "|71d79b23-4143-435...|  JakeWilson801|                   18|          18|           118483|  119849|                1|                       4|           0|                               96|             NULL|               2|                      4|          0|                              24|            NULL|                  1|          false|       PT21.154286S|                19|                    18|                     865.0|                       57|                       0|                      0.0|                          0|                              0|                               0|                        0.0|                             0.0|                              0|                  9|                   1|                         0|      1|      1|\n",
      "|71d79b23-4143-435...|       xTOTIx12|                   16|          16|            91632|   92224|             NULL|                    NULL|        NULL|                             NULL|             NULL|            NULL|                   NULL|       NULL|                            NULL|            NULL|                  8|          false|      PT14.8119293S|                 6|                     6|        274.90775299072266|                       26|                       0|                      0.0|                          0|                              0|                               0|                        0.0|                             0.0|                              0|                 13|                   1|                         0|      0|      0|\n",
      "|fc3cefc0-954a-456...|       EcZachly|                   61|          61|          1276248| 1276979|                1|                       5|           0|                                8|             NULL|               1|                      5|          0|                               0|            NULL|                  5|          false|      PT17.4548378S|                 9|                     9|                     410.0|                       16|                       0|                      0.0|                          0|                              0|                               0|                        0.0|                             0.0|                              0|                 10|                   1|                         0|      0|      1|\n",
      "|fc3cefc0-954a-456...|  De Spelbreker|                   83|          83|          2303102| 2304723|                3|                       4|           0|                               68|             NULL|               3|                      4|          0|                              96|            NULL|                  4|          false|      PT22.5787499S|                10|                     8|        385.00000190734863|                       29|                       2|                     65.0|                          0|                              0|                               0|                        0.0|                             0.0|                              0|                  7|                   1|                         0|      1|      0|\n",
      "|fc3cefc0-954a-456...|xXJointProXx NL|                   61|          62|          1279098| 1280871|                2|                       4|           0|                               68|             NULL|               2|                      4|          0|                              92|            NULL|                  1|          false|       PT19.742837S|                15|                    14|                     615.0|                       33|                       0|                     45.0|                          1|                              0|                               0|                        0.0|                             0.0|                              0|                  8|                   0|                         0|      1|      0|\n",
      "|fc3cefc0-954a-456...|   Stormbane321|                   14|          14|            70556|   71050|                1|                       4|           0|                               48|             NULL|               1|                      4|          0|                              32|            NULL|                  6|          false|        PT11.61249S|                 9|                     9|                     450.0|                       25|                       0|                      0.0|                          0|                              0|                               0|                        0.0|                             0.0|                              0|                 13|                   0|                         0|      0|      1|\n",
      "|fc3cefc0-954a-456...|     deVerdeler|                   82|          82|          2271708| 2272786|                5|                       4|           0|                               96|             NULL|               6|                      4|          0|                              22|            NULL|                  2|          false|      PT15.5739569S|                13|                    12|                     580.0|                       26|                       1|        45.00450134277344|                          0|                              0|                               0|                        0.0|                             0.0|                              0|                 10|                   1|                         0|      1|      0|\n",
      "|fc3cefc0-954a-456...|   TaubeGraph07|                   45|          45|           668043|  668697|                2|                       4|           0|                               26|             NULL|               2|                      4|          0|                               6|            NULL|                  8|          false|      PT10.6332601S|                 5|                     5|        242.49999952316284|                       13|                       0|                      0.0|                          0|                              0|                               0|                        0.0|                             0.0|                              0|                 14|                   0|                         0|      0|      1|\n",
      "|fc3cefc0-954a-456...|      derkarl15|                   51|          51|           910510|  911173|                6|                       3|           0|                               68|             NULL|               6|                      3|          0|                              48|            NULL|                  7|          false|      PT12.5038253S|                 8|                     6|                     305.0|                       18|                       2|        90.00449999980628|                          0|                              0|                               0|                        0.0|                             0.0|                              0|                 13|                   1|                         0|      0|      1|\n",
      "|fc3cefc0-954a-456...|   Skainai sama|                   28|          28|           295532|  296926|             NULL|                    NULL|        NULL|                             NULL|             NULL|            NULL|                   NULL|       NULL|                            NULL|            NULL|                  3|          false|      PT26.2458304S|                12|                    12|                     565.0|                       28|                       0|                      0.0|                          0|                              0|                               0|                        0.0|                             0.0|                              0|                  6|                   2|                         0|      1|      0|\n",
      "|322ae96f-7c46-450...|         Acerr1|                   27|          27|           272613|  273951|                4|                       4|           0|                               56|             NULL|               5|                      4|          0|                               6|            NULL|                  4|          false|      PT24.6986235S|                15|                     5|         2232.053300857544|                      156|                       2|        77.82261085510254|                          1|                              0|                               0|           281.012451171875|              294.22798585891724|                              0|                 14|                   7|                         1|      1|      0|\n",
      "|322ae96f-7c46-450...| Outlaw Fo LifE|                  111|         111|          3952656| 3953981|                6|                       5|           0|                               76|             NULL|               6|                      5|          0|                              32|            NULL|                  7|          false|      PT20.8639847S|                13|                     1|        2506.9466705322266|                      268|                       0|                    140.0|                          0|                              0|                               0|          557.2050848007202|                             0.0|                              0|                 16|                  18|                         1|      0|      1|\n",
      "|322ae96f-7c46-450...|    ILLICIT 117|                   84|          84|          2424679| 2426570|                1|                       5|           0|                               82|             NULL|               2|                      5|          0|                              28|            NULL|                  1|          false|       PT16.523964S|                 6|                     4|         743.8497371673584|                       57|                       1|                    210.0|                          0|                              0|                               0|          104.0456314086914|                             0.0|                              0|                 19|                   8|                         0|      1|      0|\n",
      "|322ae96f-7c46-450...| Darknight 1993|                  105|         105|          3500833| 3502154|                5|                       5|           0|                               68|             NULL|               5|                      5|          0|                              22|            NULL|                  6|          false|      PT20.8523365S|                21|                     5|        2009.4742918014526|                      162|                       5|        369.8188018798828|                          0|                              0|                               0|          629.1446075439453|               135.5218963623047|                              0|                 16|                  13|                         4|      0|      1|\n",
      "+--------------------+---------------+---------------------+------------+-----------------+--------+-----------------+------------------------+------------+---------------------------------+-----------------+----------------+-----------------------+-----------+--------------------------------+----------------+-------------------+---------------+-------------------+------------------+----------------------+--------------------------+-------------------------+------------------------+-------------------------+---------------------------+-------------------------------+--------------------------------+---------------------------+--------------------------------+-------------------------------+-------------------+--------------------+--------------------------+-------+-------+\n",
      "only showing top 20 rows\n",
      "\n"
     ]
    }
   ],
   "source": [
    "\n",
    "match_details = spark.read.option(\"header\",\"true\").option(\"inferSchema\", \"true\").csv(\"/home/iceberg/data/match_details.csv\")\n",
    "match_details.show()\n"
   ]
  },
  {
   "cell_type": "code",
   "execution_count": 16,
   "id": "8b4aff89-548f-4dcd-a595-e7ba55c1635f",
   "metadata": {},
   "outputs": [
    {
     "data": {
      "text/html": [
       "<table>\n",
       "    <thead>\n",
       "        <tr>\n",
       "        </tr>\n",
       "    </thead>\n",
       "    <tbody>\n",
       "    </tbody>\n",
       "</table>"
      ],
      "text/plain": [
       "++\n",
       "||\n",
       "++\n",
       "++"
      ]
     },
     "execution_count": 16,
     "metadata": {},
     "output_type": "execute_result"
    }
   ],
   "source": [
    "%%sql\n",
    "DROP TABLE IF EXISTS bootcamp.match_details_bucketed"
   ]
  },
  {
   "cell_type": "code",
   "execution_count": 17,
   "id": "aa528654-08da-4d4c-b9ee-88977fe32a1d",
   "metadata": {},
   "outputs": [
    {
     "data": {
      "text/html": [
       "<table>\n",
       "    <thead>\n",
       "        <tr>\n",
       "        </tr>\n",
       "    </thead>\n",
       "    <tbody>\n",
       "    </tbody>\n",
       "</table>"
      ],
      "text/plain": [
       "++\n",
       "||\n",
       "++\n",
       "++"
      ]
     },
     "execution_count": 17,
     "metadata": {},
     "output_type": "execute_result"
    }
   ],
   "source": [
    "%%sql\n",
    "CREATE TABLE\n",
    "  IF NOT EXISTS bootcamp.match_details_bucketed (\n",
    "    match_id STRING,\n",
    "    player_gamertag STRING,\n",
    "    previous_spartan_rank INTEGER,\n",
    "    spartan_rank INTEGER,\n",
    "    previous_total_xp INTEGER,\n",
    "    total_xp INTEGER,\n",
    "    previous_csr_tier STRING,\n",
    "    previous_csr_designation STRING,\n",
    "    previous_csr INTEGER,\n",
    "    previous_csr_percent_to_next_tier STRING,\n",
    "    previous_csr_rank INTEGER,\n",
    "    current_csr_tier STRING,\n",
    "    current_csr_designation STRING,\n",
    "    current_csr INTEGER,\n",
    "    current_csr_percent_to_next_tier STRING,\n",
    "    current_csr_rank INTEGER,\n",
    "    player_rank_on_team STRING,\n",
    "    player_finished BOOLEAN,\n",
    "    player_average_life STRING,\n",
    "    player_total_kills INTEGER,\n",
    "    player_total_headshots INTEGER,\n",
    "    player_total_weapon_damage FLOAT,\n",
    "    player_total_shots_landed INTEGER,\n",
    "    player_total_melee_kills INTEGER,\n",
    "    player_total_melee_damage FLOAT,\n",
    "    player_total_assassinations INTEGER,\n",
    "    player_total_ground_pound_kills INTEGER,\n",
    "    player_total_shoulder_bash_kills INTEGER,\n",
    "    player_total_grenade_damage FLOAT,\n",
    "    player_total_power_weapon_damage FLOAT,\n",
    "    player_total_power_weapon_grabs INTEGER,\n",
    "    player_total_deaths INTEGER,\n",
    "    player_total_assists INTEGER,\n",
    "    player_total_grenade_kills INTEGER,\n",
    "    did_win INTEGER,\n",
    "    team_id STRING\n",
    "  ) USING iceberg PARTITIONED BY (bucket(16, match_id));"
   ]
  },
  {
   "cell_type": "code",
   "execution_count": 18,
   "id": "26eeec34-2a43-49e0-ba36-5fc852e856aa",
   "metadata": {},
   "outputs": [
    {
     "name": "stderr",
     "output_type": "stream",
     "text": [
      "                                                                                "
     ]
    }
   ],
   "source": [
    "match_details.write.mode(\"append\").bucketBy(16,\"match_id\").saveAsTable(\"bootcamp.match_details_bucketed\")"
   ]
  },
  {
   "cell_type": "code",
   "execution_count": null,
   "id": "ab80ec72",
   "metadata": {},
   "outputs": [],
   "source": []
  },
  {
   "cell_type": "code",
   "execution_count": 19,
   "id": "42ebd325-5e10-478c-bb05-08552e089556",
   "metadata": {},
   "outputs": [
    {
     "data": {
      "text/html": [
       "<table>\n",
       "    <thead>\n",
       "        <tr>\n",
       "            <th>size</th>\n",
       "            <th>num_files</th>\n",
       "            <th>sorted</th>\n",
       "        </tr>\n",
       "    </thead>\n",
       "    <tbody>\n",
       "        <tr>\n",
       "            <td>7136552</td>\n",
       "            <td>16</td>\n",
       "            <td>sorted</td>\n",
       "        </tr>\n",
       "    </tbody>\n",
       "</table>"
      ],
      "text/plain": [
       "+---------+-----------+--------+\n",
       "|    size | num_files | sorted |\n",
       "+---------+-----------+--------+\n",
       "| 7136552 |        16 | sorted |\n",
       "+---------+-----------+--------+"
      ]
     },
     "execution_count": 19,
     "metadata": {},
     "output_type": "execute_result"
    }
   ],
   "source": [
    "%%sql\n",
    "SELECT\n",
    "  SUM(file_size_in_bytes) AS size,\n",
    "  COUNT(1) AS num_files,\n",
    "  'sorted'\n",
    "FROM\n",
    "  bootcamp.match_details_bucketed.files"
   ]
  },
  {
   "cell_type": "code",
   "execution_count": 20,
   "id": "f912e7eb-4c45-477e-ac73-45f922a9f3eb",
   "metadata": {},
   "outputs": [
    {
     "name": "stderr",
     "output_type": "stream",
     "text": [
      "                                                                                "
     ]
    }
   ],
   "source": [
    "\n",
    "medals_matches_players = spark.read.option(\"header\",\"true\").option(\"inferSchema\", \"true\").csv(\"/home/iceberg/data/medals_matches_players.csv\")\n",
    "# medals_matches_players.show()"
   ]
  },
  {
   "cell_type": "code",
   "execution_count": 21,
   "id": "39c057af-e521-4384-9ad7-6376cd6dc0eb",
   "metadata": {},
   "outputs": [
    {
     "data": {
      "text/html": [
       "<table>\n",
       "    <thead>\n",
       "        <tr>\n",
       "        </tr>\n",
       "    </thead>\n",
       "    <tbody>\n",
       "    </tbody>\n",
       "</table>"
      ],
      "text/plain": [
       "++\n",
       "||\n",
       "++\n",
       "++"
      ]
     },
     "execution_count": 21,
     "metadata": {},
     "output_type": "execute_result"
    }
   ],
   "source": [
    "%%sql\n",
    "DROP TABLE IF EXISTS bootcamp.medals_matches_players_bucketed"
   ]
  },
  {
   "cell_type": "code",
   "execution_count": 22,
   "id": "b8374570-ae70-4494-bcad-aa924697806d",
   "metadata": {},
   "outputs": [
    {
     "data": {
      "text/html": [
       "<table>\n",
       "    <thead>\n",
       "        <tr>\n",
       "        </tr>\n",
       "    </thead>\n",
       "    <tbody>\n",
       "    </tbody>\n",
       "</table>"
      ],
      "text/plain": [
       "++\n",
       "||\n",
       "++\n",
       "++"
      ]
     },
     "execution_count": 22,
     "metadata": {},
     "output_type": "execute_result"
    }
   ],
   "source": [
    "%%sql\n",
    "CREATE TABLE\n",
    "  IF NOT EXISTS bootcamp.medals_matches_players_bucketed (\n",
    "    match_id STRING,\n",
    "    player_gamertag STRING,\n",
    "    medal_id STRING,\n",
    "    COUNT INTEGER\n",
    "  ) USING iceberg PARTITIONED BY (bucket(16, match_id))"
   ]
  },
  {
   "cell_type": "code",
   "execution_count": 23,
   "id": "7a68ff9c-a9b9-483d-a4df-0784b3610637",
   "metadata": {},
   "outputs": [
    {
     "name": "stderr",
     "output_type": "stream",
     "text": [
      "                                                                                "
     ]
    }
   ],
   "source": [
    "medals_matches_players.write.mode(\"append\").bucketBy(16,\"match_id\").saveAsTable(\"bootcamp.medals_matches_players_bucketed\")"
   ]
  },
  {
   "cell_type": "code",
   "execution_count": 24,
   "id": "e6bf02b3-6e05-40f7-8208-9a6f0b6bd838",
   "metadata": {},
   "outputs": [
    {
     "data": {
      "text/html": [
       "<table>\n",
       "    <thead>\n",
       "        <tr>\n",
       "            <th>size</th>\n",
       "            <th>num_files</th>\n",
       "            <th>sorted</th>\n",
       "        </tr>\n",
       "    </thead>\n",
       "    <tbody>\n",
       "        <tr>\n",
       "            <td>2912283</td>\n",
       "            <td>16</td>\n",
       "            <td>sorted</td>\n",
       "        </tr>\n",
       "    </tbody>\n",
       "</table>"
      ],
      "text/plain": [
       "+---------+-----------+--------+\n",
       "|    size | num_files | sorted |\n",
       "+---------+-----------+--------+\n",
       "| 2912283 |        16 | sorted |\n",
       "+---------+-----------+--------+"
      ]
     },
     "execution_count": 24,
     "metadata": {},
     "output_type": "execute_result"
    }
   ],
   "source": [
    "%%sql\n",
    "SELECT\n",
    "  SUM(file_size_in_bytes) AS size,\n",
    "  COUNT(1) AS num_files,\n",
    "  'sorted'\n",
    "FROM\n",
    "  bootcamp.medals_matches_players_bucketed.files"
   ]
  },
  {
   "cell_type": "code",
   "execution_count": 35,
   "id": "29538978-0b3f-4cfa-bac0-000ee39d457b",
   "metadata": {},
   "outputs": [],
   "source": [
    "match_details_bucketed = spark.table(\"bootcamp.match_details_bucketed\")\n",
    "matches_bucketed = spark.table(\"bootcamp.matches_bucketed\")\n",
    "medals_matches_players_bucketed = spark.table(\"bootcamp.medals_matches_players_bucketed\").select(col(\"match_id\"), col(\"player_gamertag\").alias(\"mmp_palyer_gamertag\"), col(\"medal_id\"))"
   ]
  },
  {
   "cell_type": "code",
   "execution_count": 36,
   "id": "fab9570d-8843-4399-b5aa-23817f51be50",
   "metadata": {},
   "outputs": [
    {
     "name": "stdout",
     "output_type": "stream",
     "text": [
      "+--------------------+--------------------+------------+--------------------+--------------------+-------------+-------------------+--------------+---------+--------------------+----------------+--------------------+\n",
      "|               mapid|            match_id|is_team_game|         playlist_id|     game_variant_id|is_match_over|    completion_date|match_duration|game_mode|      map_variant_id|        map_name|     map_description|\n",
      "+--------------------+--------------------+------------+--------------------+--------------------+-------------+-------------------+--------------+---------+--------------------+----------------+--------------------+\n",
      "|ce1dc2de-f206-11e...|f44c9997-eb6f-4d6...|        true|0504ca3c-de41-48f...|b0df8938-0fb6-42e...|         true|2016-02-28 00:00:00|          NULL|     NULL|d5a6277a-96d5-499...|           Truth|                NULL|\n",
      "|cbcea2c0-f206-11e...|f0f2daf2-52f3-4ff...|        NULL|2323b76a-db98-4e0...|257a305e-4dd3-41f...|         NULL|2016-02-04 00:00:00|          NULL|     NULL|7108c409-6d1e-41d...|        Riptide |The waters of thi...|\n",
      "|c7edbf0f-f206-11e...|8aec419e-2bfa-4fc...|        true|f72e0ef0-7c4a-430...|1e473914-46e4-408...|         true|2016-01-07 00:00:00|          NULL|     NULL|ec3eef73-13e3-4d4...|  Breakout Arena|The broadcast of ...|\n",
      "|cebd854f-f206-11e...|c6f24b65-bb73-489...|        NULL|c98949ae-60a8-43d...|1e473914-46e4-408...|         NULL|2016-01-26 00:00:00|          NULL|     NULL|7859337f-286d-4ee...|        Coliseum|Forerunner Warrio...|\n",
      "|c7805740-f206-11e...|a868eb4e-8b58-4e6...|        true|f72e0ef0-7c4a-430...|1e473914-46e4-408...|         true|2016-02-02 00:00:00|          NULL|     NULL|                NULL|         Glacier|Each of Halo's mi...|\n",
      "|cdb934b0-f206-11e...|a3c79d21-291d-401...|        NULL|c98949ae-60a8-43d...|1e473914-46e4-408...|         NULL|2016-01-26 00:00:00|          NULL|     NULL|53a3bf33-f1c9-436...|          Empire|Military-industri...|\n",
      "|c7edbf0f-f206-11e...|341ede74-f260-450...|        NULL|f72e0ef0-7c4a-430...|1e473914-46e4-408...|         NULL|2016-01-26 00:00:00|          NULL|     NULL|1f5bdff2-cea6-4ff...|  Breakout Arena|The broadcast of ...|\n",
      "|c96ff240-f206-11e...|df9f097f-a074-4ec...|        true|b50c4dc2-6c86-4d7...|f6de5351-3797-41e...|         true|2016-02-28 00:00:00|          NULL|     NULL|                NULL|Battle of Noctus|The Andesian gove...|\n",
      "|cd844200-f206-11e...|39c14bb7-2a3c-44c...|        NULL|c98949ae-60a8-43d...|1571fdac-e0b4-4eb...|         NULL|2016-01-25 00:00:00|          NULL|     NULL|9b3a23cd-8562-49d...|            Eden|Only now - years ...|\n",
      "|caacb800-f206-11e...|ece43f80-f229-44c...|        true|2323b76a-db98-4e0...|257a305e-4dd3-41f...|         true|2016-04-05 00:00:00|          NULL|     NULL|                NULL|           Plaza|Promesa’s streets...|\n",
      "|cd844200-f206-11e...|071c914f-7d7d-4d7...|        true|bc0f8ad6-31e6-4a1...|257a305e-4dd3-41f...|         true|2015-12-27 00:00:00|          NULL|     NULL|cc5818de-fabc-4a0...|            Eden|Only now - years ...|\n",
      "|c7edbf0f-f206-11e...|f143a826-fad7-476...|        NULL|f72e0ef0-7c4a-430...|1e473914-46e4-408...|         NULL|2016-01-26 00:00:00|          NULL|     NULL|                NULL|  Breakout Arena|The broadcast of ...|\n",
      "|ca737f8f-f206-11e...|50594bb1-47e2-4d2...|        NULL|2323b76a-db98-4e0...|257a305e-4dd3-41f...|         NULL|2016-01-26 00:00:00|          NULL|     NULL|                NULL|      Overgrowth|Nature has reclai...|\n",
      "|5e130537-2275-40b...|321f2079-fea5-413...|        true|b50c4dc2-6c86-4d7...|f6de5351-3797-41e...|         true|2016-04-10 00:00:00|          NULL|     NULL|                NULL|            NULL|                NULL|\n",
      "|c7edbf0f-f206-11e...|8f421c10-031e-46a...|        true|f72e0ef0-7c4a-430...|1e473914-46e4-408...|         true|2015-12-23 00:00:00|          NULL|     NULL|                NULL|  Breakout Arena|The broadcast of ...|\n",
      "|caacb800-f206-11e...|aa9a0fd5-4f2c-483...|        NULL|2323b76a-db98-4e0...|257a305e-4dd3-41f...|         NULL|2016-01-24 00:00:00|          NULL|     NULL|629a3c03-224f-4fd...|           Plaza|Promesa’s streets...|\n",
      "|cc040aa1-f206-11e...|fb44f196-eab4-453...|        NULL|2323b76a-db98-4e0...|257a305e-4dd3-41f...|         NULL|2016-01-24 00:00:00|          NULL|     NULL|                NULL|          Fathom|The UNSC explores...|\n",
      "|c7edbf0f-f206-11e...|8c878eac-908e-49e...|        NULL|f72e0ef0-7c4a-430...|1e473914-46e4-408...|         NULL|2016-01-23 00:00:00|          NULL|     NULL|                NULL|  Breakout Arena|The broadcast of ...|\n",
      "|c7edbf0f-f206-11e...|34d838e6-2411-4d7...|        NULL|f72e0ef0-7c4a-430...|1e473914-46e4-408...|         NULL|2016-01-22 00:00:00|          NULL|     NULL|                NULL|  Breakout Arena|The broadcast of ...|\n",
      "|c7edbf0f-f206-11e...|b76c333b-8391-44f...|        true|f72e0ef0-7c4a-430...|1e473914-46e4-408...|         true|2016-02-08 00:00:00|          NULL|     NULL|                NULL|  Breakout Arena|The broadcast of ...|\n",
      "+--------------------+--------------------+------------+--------------------+--------------------+-------------+-------------------+--------------+---------+--------------------+----------------+--------------------+\n",
      "only showing top 20 rows\n",
      "\n"
     ]
    }
   ],
   "source": [
    "from pyspark.sql.functions import broadcast\n",
    "\n",
    "matches_bucketed_with_maps = matches_bucketed.join(broadcast(maps),\"mapid\")\n",
    "matches_bucketed_with_maps.show()"
   ]
  },
  {
   "cell_type": "code",
   "execution_count": 37,
   "id": "8b9daf83-370e-4b15-adc9-b992dd4afaa1",
   "metadata": {},
   "outputs": [
    {
     "name": "stderr",
     "output_type": "stream",
     "text": [
      "                                                                                "
     ]
    },
    {
     "name": "stdout",
     "output_type": "stream",
     "text": [
      "+----------+--------------------+---------------+---------------------+------------+-----------------+--------+-----------------+------------------------+------------+---------------------------------+-----------------+----------------+-----------------------+-----------+--------------------------------+----------------+-------------------+---------------+-------------------+------------------+----------------------+--------------------------+-------------------------+------------------------+-------------------------+---------------------------+-------------------------------+--------------------------------+---------------------------+--------------------------------+-------------------------------+-------------------+--------------------+--------------------------+-------+-------+--------------------+------------+--------------------+--------------------+-------------+-------------------+--------------+---------+--------------+--------+--------------------+-------------------+--------------------+-----------+----------+------------------+-------------------+------------+-------------+-----------------+--------------------+--------------+----------+\n",
      "|  medal_id|            match_id|player_gamertag|previous_spartan_rank|spartan_rank|previous_total_xp|total_xp|previous_csr_tier|previous_csr_designation|previous_csr|previous_csr_percent_to_next_tier|previous_csr_rank|current_csr_tier|current_csr_designation|current_csr|current_csr_percent_to_next_tier|current_csr_rank|player_rank_on_team|player_finished|player_average_life|player_total_kills|player_total_headshots|player_total_weapon_damage|player_total_shots_landed|player_total_melee_kills|player_total_melee_damage|player_total_assassinations|player_total_ground_pound_kills|player_total_shoulder_bash_kills|player_total_grenade_damage|player_total_power_weapon_damage|player_total_power_weapon_grabs|player_total_deaths|player_total_assists|player_total_grenade_kills|did_win|team_id|               mapid|is_team_game|         playlist_id|     game_variant_id|is_match_over|    completion_date|match_duration|game_mode|map_variant_id|map_name|     map_description|mmp_palyer_gamertag|          sprite_uri|sprite_left|sprite_top|sprite_sheet_width|sprite_sheet_height|sprite_width|sprite_height|   classification|         description|          name|difficulty|\n",
      "+----------+--------------------+---------------+---------------------+------------+-----------------+--------+-----------------+------------------------+------------+---------------------------------+-----------------+----------------+-----------------------+-----------+--------------------------------+----------------+-------------------+---------------+-------------------+------------------+----------------------+--------------------------+-------------------------+------------------------+-------------------------+---------------------------+-------------------------------+--------------------------------+---------------------------+--------------------------------+-------------------------------+-------------------+--------------------+--------------------------+-------+-------+--------------------+------------+--------------------+--------------------+-------------+-------------------+--------------+---------+--------------+--------+--------------------+-------------------+--------------------+-----------+----------+------------------+-------------------+------------+-------------+-----------------+--------------------+--------------+----------+\n",
      "| 824733727|000d1f2f-d8b6-4eb...|      KiLLMaNiA|                  123|         123|          4794358| 4796119|                1|                       6|        1569|                                0|             NULL|               1|                      6|       1562|                               0|            NULL|                  7|          false|      PT13.6239308S|                 3|                     3|                  694.8461|                       39|                       0|                      0.0|                          0|                              0|                               0|                        0.0|                             0.0|                              0|                 15|                   1|                         0|      0|      1|caacb800-f206-11e...|        true|c98949ae-60a8-43d...|257a305e-4dd3-41f...|         true|2016-05-24 00:00:00|          NULL|     NULL|          NULL|   Plaza|Promesa’s streets...|          KiLLMaNiA|https://content.h...|        975|       450|                74|                 74|        1125|          899|            Style|Distract an oppon...|   Distraction|       150|\n",
      "|3261908037|000d1f2f-d8b6-4eb...|      KiLLMaNiA|                  123|         123|          4794358| 4796119|                1|                       6|        1569|                                0|             NULL|               1|                      6|       1562|                               0|            NULL|                  7|          false|      PT13.6239308S|                 3|                     3|                  694.8461|                       39|                       0|                      0.0|                          0|                              0|                               0|                        0.0|                             0.0|                              0|                 15|                   1|                         0|      0|      1|caacb800-f206-11e...|        true|c98949ae-60a8-43d...|257a305e-4dd3-41f...|         true|2016-05-24 00:00:00|          NULL|     NULL|          NULL|   Plaza|Promesa’s streets...|          KiLLMaNiA|https://content.h...|        375|       525|                74|                 74|        1125|          899|WeaponProficiency|Kill an opponent ...|      Headshot|        60|\n",
      "|2078758684|000d1f2f-d8b6-4eb...|      KiLLMaNiA|                  123|         123|          4794358| 4796119|                1|                       6|        1569|                                0|             NULL|               1|                      6|       1562|                               0|            NULL|                  7|          false|      PT13.6239308S|                 3|                     3|                  694.8461|                       39|                       0|                      0.0|                          0|                              0|                               0|                        0.0|                             0.0|                              0|                 15|                   1|                         0|      0|      1|caacb800-f206-11e...|        true|c98949ae-60a8-43d...|257a305e-4dd3-41f...|         true|2016-05-24 00:00:00|          NULL|     NULL|          NULL|   Plaza|Promesa’s streets...|          KiLLMaNiA|https://content.h...|        450|       300|                74|                 74|        1125|          899|        MultiKill|Kill 2 opponents ...|   Double Kill|        45|\n",
      "| 824733727|000d1f2f-d8b6-4eb...|      KiLLMaNiA|                  123|         123|          4794358| 4796119|                1|                       6|        1569|                                0|             NULL|               1|                      6|       1562|                               0|            NULL|                  7|          false|      PT13.6239308S|                 3|                     3|                  694.8461|                       39|                       0|                      0.0|                          0|                              0|                               0|                        0.0|                             0.0|                              0|                 15|                   1|                         0|      0|      1|caacb800-f206-11e...|        true|c98949ae-60a8-43d...|257a305e-4dd3-41f...|         true|2016-05-24 00:00:00|          NULL|     NULL|          NULL|   Plaza|Promesa’s streets...|     Kool Moe D HCS|https://content.h...|        975|       450|                74|                 74|        1125|          899|            Style|Distract an oppon...|   Distraction|       150|\n",
      "|2287626681|000d1f2f-d8b6-4eb...|      KiLLMaNiA|                  123|         123|          4794358| 4796119|                1|                       6|        1569|                                0|             NULL|               1|                      6|       1562|                               0|            NULL|                  7|          false|      PT13.6239308S|                 3|                     3|                  694.8461|                       39|                       0|                      0.0|                          0|                              0|                               0|                        0.0|                             0.0|                              0|                 15|                   1|                         0|      0|      1|caacb800-f206-11e...|        true|c98949ae-60a8-43d...|257a305e-4dd3-41f...|         true|2016-05-24 00:00:00|          NULL|     NULL|          NULL|   Plaza|Promesa’s streets...|     Kool Moe D HCS|https://content.h...|        600|       300|                74|                 74|        1125|          899|            Style|Kill an opponent ...|    Melee Kill|       220|\n",
      "|3400287617|000d1f2f-d8b6-4eb...|      KiLLMaNiA|                  123|         123|          4794358| 4796119|                1|                       6|        1569|                                0|             NULL|               1|                      6|       1562|                               0|            NULL|                  7|          false|      PT13.6239308S|                 3|                     3|                  694.8461|                       39|                       0|                      0.0|                          0|                              0|                               0|                        0.0|                             0.0|                              0|                 15|                   1|                         0|      0|      1|caacb800-f206-11e...|        true|c98949ae-60a8-43d...|257a305e-4dd3-41f...|         true|2016-05-24 00:00:00|          NULL|     NULL|          NULL|   Plaza|Promesa’s streets...|     Kool Moe D HCS|https://content.h...|        450|       600|                74|                 74|        1125|          899|            Style|Kill an opponent ...|    Close Call|       155|\n",
      "| 250435527|000d1f2f-d8b6-4eb...|      KiLLMaNiA|                  123|         123|          4794358| 4796119|                1|                       6|        1569|                                0|             NULL|               1|                      6|       1562|                               0|            NULL|                  7|          false|      PT13.6239308S|                 3|                     3|                  694.8461|                       39|                       0|                      0.0|                          0|                              0|                               0|                        0.0|                             0.0|                              0|                 15|                   1|                         0|      0|      1|caacb800-f206-11e...|        true|c98949ae-60a8-43d...|257a305e-4dd3-41f...|         true|2016-05-24 00:00:00|          NULL|     NULL|          NULL|   Plaza|Promesa’s streets...|     Kool Moe D HCS|https://content.h...|        900|       225|                74|                 74|        1125|          899|            Style|Kill an enemy usi...|       Brawler|       195|\n",
      "|2838259753|000d1f2f-d8b6-4eb...|      KiLLMaNiA|                  123|         123|          4794358| 4796119|                1|                       6|        1569|                                0|             NULL|               1|                      6|       1562|                               0|            NULL|                  7|          false|      PT13.6239308S|                 3|                     3|                  694.8461|                       39|                       0|                      0.0|                          0|                              0|                               0|                        0.0|                             0.0|                              0|                 15|                   1|                         0|      0|      1|caacb800-f206-11e...|        true|c98949ae-60a8-43d...|257a305e-4dd3-41f...|         true|2016-05-24 00:00:00|          NULL|     NULL|          NULL|   Plaza|Promesa’s streets...|     Kool Moe D HCS|https://content.h...|        150|       600|                74|                 74|        1125|          899|            Style|Save a teammate b...|     Protector|       145|\n",
      "|3261908037|000d1f2f-d8b6-4eb...|      KiLLMaNiA|                  123|         123|          4794358| 4796119|                1|                       6|        1569|                                0|             NULL|               1|                      6|       1562|                               0|            NULL|                  7|          false|      PT13.6239308S|                 3|                     3|                  694.8461|                       39|                       0|                      0.0|                          0|                              0|                               0|                        0.0|                             0.0|                              0|                 15|                   1|                         0|      0|      1|caacb800-f206-11e...|        true|c98949ae-60a8-43d...|257a305e-4dd3-41f...|         true|2016-05-24 00:00:00|          NULL|     NULL|          NULL|   Plaza|Promesa’s streets...|     Kool Moe D HCS|https://content.h...|        375|       525|                74|                 74|        1125|          899|WeaponProficiency|Kill an opponent ...|      Headshot|        60|\n",
      "|3261908037|000d1f2f-d8b6-4eb...|      KiLLMaNiA|                  123|         123|          4794358| 4796119|                1|                       6|        1569|                                0|             NULL|               1|                      6|       1562|                               0|            NULL|                  7|          false|      PT13.6239308S|                 3|                     3|                  694.8461|                       39|                       0|                      0.0|                          0|                              0|                               0|                        0.0|                             0.0|                              0|                 15|                   1|                         0|      0|      1|caacb800-f206-11e...|        true|c98949ae-60a8-43d...|257a305e-4dd3-41f...|         true|2016-05-24 00:00:00|          NULL|     NULL|          NULL|   Plaza|Promesa’s streets...|           Attack3d|https://content.h...|        375|       525|                74|                 74|        1125|          899|WeaponProficiency|Kill an opponent ...|      Headshot|        60|\n",
      "|2838259753|000d1f2f-d8b6-4eb...|      KiLLMaNiA|                  123|         123|          4794358| 4796119|                1|                       6|        1569|                                0|             NULL|               1|                      6|       1562|                               0|            NULL|                  7|          false|      PT13.6239308S|                 3|                     3|                  694.8461|                       39|                       0|                      0.0|                          0|                              0|                               0|                        0.0|                             0.0|                              0|                 15|                   1|                         0|      0|      1|caacb800-f206-11e...|        true|c98949ae-60a8-43d...|257a305e-4dd3-41f...|         true|2016-05-24 00:00:00|          NULL|     NULL|          NULL|   Plaza|Promesa’s streets...|           Attack3d|https://content.h...|        150|       600|                74|                 74|        1125|          899|            Style|Save a teammate b...|     Protector|       145|\n",
      "| 250435527|000d1f2f-d8b6-4eb...|      KiLLMaNiA|                  123|         123|          4794358| 4796119|                1|                       6|        1569|                                0|             NULL|               1|                      6|       1562|                               0|            NULL|                  7|          false|      PT13.6239308S|                 3|                     3|                  694.8461|                       39|                       0|                      0.0|                          0|                              0|                               0|                        0.0|                             0.0|                              0|                 15|                   1|                         0|      0|      1|caacb800-f206-11e...|        true|c98949ae-60a8-43d...|257a305e-4dd3-41f...|         true|2016-05-24 00:00:00|          NULL|     NULL|          NULL|   Plaza|Promesa’s streets...|       TOP NoCH ZZ1|https://content.h...|        900|       225|                74|                 74|        1125|          899|            Style|Kill an enemy usi...|       Brawler|       195|\n",
      "|3400287617|000d1f2f-d8b6-4eb...|      KiLLMaNiA|                  123|         123|          4794358| 4796119|                1|                       6|        1569|                                0|             NULL|               1|                      6|       1562|                               0|            NULL|                  7|          false|      PT13.6239308S|                 3|                     3|                  694.8461|                       39|                       0|                      0.0|                          0|                              0|                               0|                        0.0|                             0.0|                              0|                 15|                   1|                         0|      0|      1|caacb800-f206-11e...|        true|c98949ae-60a8-43d...|257a305e-4dd3-41f...|         true|2016-05-24 00:00:00|          NULL|     NULL|          NULL|   Plaza|Promesa’s streets...|       TOP NoCH ZZ1|https://content.h...|        450|       600|                74|                 74|        1125|          899|            Style|Kill an opponent ...|    Close Call|       155|\n",
      "|3261908037|000d1f2f-d8b6-4eb...|      KiLLMaNiA|                  123|         123|          4794358| 4796119|                1|                       6|        1569|                                0|             NULL|               1|                      6|       1562|                               0|            NULL|                  7|          false|      PT13.6239308S|                 3|                     3|                  694.8461|                       39|                       0|                      0.0|                          0|                              0|                               0|                        0.0|                             0.0|                              0|                 15|                   1|                         0|      0|      1|caacb800-f206-11e...|        true|c98949ae-60a8-43d...|257a305e-4dd3-41f...|         true|2016-05-24 00:00:00|          NULL|     NULL|          NULL|   Plaza|Promesa’s streets...|       TOP NoCH ZZ1|https://content.h...|        375|       525|                74|                 74|        1125|          899|WeaponProficiency|Kill an opponent ...|      Headshot|        60|\n",
      "|3261908037|000d1f2f-d8b6-4eb...|      KiLLMaNiA|                  123|         123|          4794358| 4796119|                1|                       6|        1569|                                0|             NULL|               1|                      6|       1562|                               0|            NULL|                  7|          false|      PT13.6239308S|                 3|                     3|                  694.8461|                       39|                       0|                      0.0|                          0|                              0|                               0|                        0.0|                             0.0|                              0|                 15|                   1|                         0|      0|      1|caacb800-f206-11e...|        true|c98949ae-60a8-43d...|257a305e-4dd3-41f...|         true|2016-05-24 00:00:00|          NULL|     NULL|          NULL|   Plaza|Promesa’s streets...|      BeastModeless|https://content.h...|        375|       525|                74|                 74|        1125|          899|WeaponProficiency|Kill an opponent ...|      Headshot|        60|\n",
      "|3001183151|000d1f2f-d8b6-4eb...|      KiLLMaNiA|                  123|         123|          4794358| 4796119|                1|                       6|        1569|                                0|             NULL|               1|                      6|       1562|                               0|            NULL|                  7|          false|      PT13.6239308S|                 3|                     3|                  694.8461|                       39|                       0|                      0.0|                          0|                              0|                               0|                        0.0|                             0.0|                              0|                 15|                   1|                         0|      0|      1|caacb800-f206-11e...|        true|c98949ae-60a8-43d...|257a305e-4dd3-41f...|         true|2016-05-24 00:00:00|          NULL|     NULL|          NULL|   Plaza|Promesa’s streets...|      BeastModeless|https://content.h...|        300|       600|                74|                 74|        1125|          899|            Style|Earn the first ki...|  First Strike|       180|\n",
      "|3653057799|000d1f2f-d8b6-4eb...|      KiLLMaNiA|                  123|         123|          4794358| 4796119|                1|                       6|        1569|                                0|             NULL|               1|                      6|       1562|                               0|            NULL|                  7|          false|      PT13.6239308S|                 3|                     3|                  694.8461|                       39|                       0|                      0.0|                          0|                              0|                               0|                        0.0|                             0.0|                              0|                 15|                   1|                         0|      0|      1|caacb800-f206-11e...|        true|c98949ae-60a8-43d...|257a305e-4dd3-41f...|         true|2016-05-24 00:00:00|          NULL|     NULL|          NULL|   Plaza|Promesa’s streets...|      BeastModeless|https://content.h...|        450|       750|                74|                 74|        1125|          899|WeaponProficiency|Kill a player in ...|  Perfect Kill|        40|\n",
      "|2078758684|000d1f2f-d8b6-4eb...|      KiLLMaNiA|                  123|         123|          4794358| 4796119|                1|                       6|        1569|                                0|             NULL|               1|                      6|       1562|                               0|            NULL|                  7|          false|      PT13.6239308S|                 3|                     3|                  694.8461|                       39|                       0|                      0.0|                          0|                              0|                               0|                        0.0|                             0.0|                              0|                 15|                   1|                         0|      0|      1|caacb800-f206-11e...|        true|c98949ae-60a8-43d...|257a305e-4dd3-41f...|         true|2016-05-24 00:00:00|          NULL|     NULL|          NULL|   Plaza|Promesa’s streets...|      BeastModeless|https://content.h...|        450|       300|                74|                 74|        1125|          899|        MultiKill|Kill 2 opponents ...|   Double Kill|        45|\n",
      "| 285057226|000d1f2f-d8b6-4eb...|      KiLLMaNiA|                  123|         123|          4794358| 4796119|                1|                       6|        1569|                                0|             NULL|               1|                      6|       1562|                               0|            NULL|                  7|          false|      PT13.6239308S|                 3|                     3|                  694.8461|                       39|                       0|                      0.0|                          0|                              0|                               0|                        0.0|                             0.0|                              0|                 15|                   1|                         0|      0|      1|caacb800-f206-11e...|        true|c98949ae-60a8-43d...|257a305e-4dd3-41f...|         true|2016-05-24 00:00:00|          NULL|     NULL|          NULL|   Plaza|Promesa’s streets...|      BeastModeless|https://content.h...|         75|       675|                74|                 74|        1125|          899|            Style|Kill an opponent ...|From the Grave|       165|\n",
      "|2287626681|000d1f2f-d8b6-4eb...|      KiLLMaNiA|                  123|         123|          4794358| 4796119|                1|                       6|        1569|                                0|             NULL|               1|                      6|       1562|                               0|            NULL|                  7|          false|      PT13.6239308S|                 3|                     3|                  694.8461|                       39|                       0|                      0.0|                          0|                              0|                               0|                        0.0|                             0.0|                              0|                 15|                   1|                         0|      0|      1|caacb800-f206-11e...|        true|c98949ae-60a8-43d...|257a305e-4dd3-41f...|         true|2016-05-24 00:00:00|          NULL|     NULL|          NULL|   Plaza|Promesa’s streets...|      BeastModeless|https://content.h...|        600|       300|                74|                 74|        1125|          899|            Style|Kill an opponent ...|    Melee Kill|       220|\n",
      "+----------+--------------------+---------------+---------------------+------------+-----------------+--------+-----------------+------------------------+------------+---------------------------------+-----------------+----------------+-----------------------+-----------+--------------------------------+----------------+-------------------+---------------+-------------------+------------------+----------------------+--------------------------+-------------------------+------------------------+-------------------------+---------------------------+-------------------------------+--------------------------------+---------------------------+--------------------------------+-------------------------------+-------------------+--------------------+--------------------------+-------+-------+--------------------+------------+--------------------+--------------------+-------------+-------------------+--------------+---------+--------------+--------+--------------------+-------------------+--------------------+-----------+----------+------------------+-------------------+------------+-------------+-----------------+--------------------+--------------+----------+\n",
      "only showing top 20 rows\n",
      "\n",
      "== Physical Plan ==\n",
      "AdaptiveSparkPlan isFinalPlan=false\n",
      "+- Project [medal_id#2564, match_id#2470, player_gamertag#2471, previous_spartan_rank#2472, spartan_rank#2473, previous_total_xp#2474, total_xp#2475, previous_csr_tier#2476, previous_csr_designation#2477, previous_csr#2478, previous_csr_percent_to_next_tier#2479, previous_csr_rank#2480, current_csr_tier#2481, current_csr_designation#2482, current_csr#2483, current_csr_percent_to_next_tier#2484, current_csr_rank#2485, player_rank_on_team#2486, player_finished#2487, player_average_life#2488, player_total_kills#2489, player_total_headshots#2490, player_total_weapon_damage#2491, player_total_shots_landed#2492, ... 36 more fields]\n",
      "   +- BroadcastHashJoin [medal_id#2564], [medal_id#202], Inner, BuildRight, false\n",
      "      :- Project [match_id#2470, player_gamertag#2471, previous_spartan_rank#2472, spartan_rank#2473, previous_total_xp#2474, total_xp#2475, previous_csr_tier#2476, previous_csr_designation#2477, previous_csr#2478, previous_csr_percent_to_next_tier#2479, previous_csr_rank#2480, current_csr_tier#2481, current_csr_designation#2482, current_csr#2483, current_csr_percent_to_next_tier#2484, current_csr_rank#2485, player_rank_on_team#2486, player_finished#2487, player_average_life#2488, player_total_kills#2489, player_total_headshots#2490, player_total_weapon_damage#2491, player_total_shots_landed#2492, player_total_melee_kills#2493, ... 25 more fields]\n",
      "      :  +- SortMergeJoin [match_id#2470], [match_id#2562], Inner\n",
      "      :     :- Project [match_id#2470, player_gamertag#2471, previous_spartan_rank#2472, spartan_rank#2473, previous_total_xp#2474, total_xp#2475, previous_csr_tier#2476, previous_csr_designation#2477, previous_csr#2478, previous_csr_percent_to_next_tier#2479, previous_csr_rank#2480, current_csr_tier#2481, current_csr_designation#2482, current_csr#2483, current_csr_percent_to_next_tier#2484, current_csr_rank#2485, player_rank_on_team#2486, player_finished#2487, player_average_life#2488, player_total_kills#2489, player_total_headshots#2490, player_total_weapon_damage#2491, player_total_shots_landed#2492, player_total_melee_kills#2493, ... 23 more fields]\n",
      "      :     :  +- SortMergeJoin [match_id#2470], [match_id#2542], Inner\n",
      "      :     :     :- Sort [match_id#2470 ASC NULLS FIRST], false, 0\n",
      "      :     :     :  +- Exchange hashpartitioning(match_id#2470, 200), ENSURE_REQUIREMENTS, [plan_id=9540]\n",
      "      :     :     :     +- BatchScan demo.bootcamp.match_details_bucketed[match_id#2470, player_gamertag#2471, previous_spartan_rank#2472, spartan_rank#2473, previous_total_xp#2474, total_xp#2475, previous_csr_tier#2476, previous_csr_designation#2477, previous_csr#2478, previous_csr_percent_to_next_tier#2479, previous_csr_rank#2480, current_csr_tier#2481, current_csr_designation#2482, current_csr#2483, current_csr_percent_to_next_tier#2484, current_csr_rank#2485, player_rank_on_team#2486, player_finished#2487, player_average_life#2488, player_total_kills#2489, player_total_headshots#2490, player_total_weapon_damage#2491, player_total_shots_landed#2492, player_total_melee_kills#2493, ... 12 more fields] demo.bootcamp.match_details_bucketed (branch=null) [filters=match_id IS NOT NULL, groupedBy=] RuntimeFilters: []\n",
      "      :     :     +- Sort [match_id#2542 ASC NULLS FIRST], false, 0\n",
      "      :     :        +- Exchange hashpartitioning(match_id#2542, 200), ENSURE_REQUIREMENTS, [plan_id=9541]\n",
      "      :     :           +- Project [mapid#2543, match_id#2542, is_team_game#2544, playlist_id#2545, game_variant_id#2546, is_match_over#2547, completion_date#2548, match_duration#2549, game_mode#2550, map_variant_id#2551, map_name#179, map_description#180]\n",
      "      :     :              +- BroadcastHashJoin [mapid#2543], [mapid#173], Inner, BuildRight, false\n",
      "      :     :                 :- Filter isnotnull(mapid#2543)\n",
      "      :     :                 :  +- BatchScan demo.bootcamp.matches_bucketed[match_id#2542, mapid#2543, is_team_game#2544, playlist_id#2545, game_variant_id#2546, is_match_over#2547, completion_date#2548, match_duration#2549, game_mode#2550, map_variant_id#2551] demo.bootcamp.matches_bucketed (branch=null) [filters=mapid IS NOT NULL, match_id IS NOT NULL, groupedBy=] RuntimeFilters: []\n",
      "      :     :                 +- BroadcastExchange HashedRelationBroadcastMode(List(input[0, string, true]),false), [plan_id=9535]\n",
      "      :     :                    +- Project [mapid#173, name#174 AS map_name#179, description#175 AS map_description#180]\n",
      "      :     :                       +- Filter isnotnull(mapid#173)\n",
      "      :     :                          +- FileScan csv [mapid#173,name#174,description#175] Batched: false, DataFilters: [isnotnull(mapid#173)], Format: CSV, Location: InMemoryFileIndex(1 paths)[file:/home/iceberg/data/maps.csv], PartitionFilters: [], PushedFilters: [IsNotNull(mapid)], ReadSchema: struct<mapid:string,name:string,description:string>\n",
      "      :     +- Sort [match_id#2562 ASC NULLS FIRST], false, 0\n",
      "      :        +- Exchange hashpartitioning(match_id#2562, 200), ENSURE_REQUIREMENTS, [plan_id=9548]\n",
      "      :           +- Project [match_id#2562, player_gamertag#2563 AS mmp_palyer_gamertag#2570, medal_id#2564]\n",
      "      :              +- Filter isnotnull(medal_id#2564)\n",
      "      :                 +- BatchScan demo.bootcamp.medals_matches_players_bucketed[match_id#2562, player_gamertag#2563, medal_id#2564] demo.bootcamp.medals_matches_players_bucketed (branch=null) [filters=match_id IS NOT NULL, medal_id IS NOT NULL, groupedBy=] RuntimeFilters: []\n",
      "      +- BroadcastExchange HashedRelationBroadcastMode(List(input[0, string, false]),false), [plan_id=9553]\n",
      "         +- Filter isnotnull(medal_id#202)\n",
      "            +- FileScan csv [medal_id#202,sprite_uri#203,sprite_left#204,sprite_top#205,sprite_sheet_width#206,sprite_sheet_height#207,sprite_width#208,sprite_height#209,classification#210,description#211,name#212,difficulty#213] Batched: false, DataFilters: [isnotnull(medal_id#202)], Format: CSV, Location: InMemoryFileIndex(1 paths)[file:/home/iceberg/data/medals.csv], PartitionFilters: [], PushedFilters: [IsNotNull(medal_id)], ReadSchema: struct<medal_id:string,sprite_uri:string,sprite_left:string,sprite_top:string,sprite_sheet_width:...\n",
      "\n",
      "\n"
     ]
    }
   ],
   "source": [
    "\n",
    "df = match_details_bucketed.join(matches_bucketed_with_maps, \"match_id\").join(medals_matches_players_bucketed,\"match_id\").join(broadcast(medals),\"medal_id\")\n",
    "df.show();\n",
    "df.explain()"
   ]
  },
  {
   "cell_type": "code",
   "execution_count": 38,
   "id": "1d146fc9-8e0e-4048-b6c1-2017869755c9",
   "metadata": {},
   "outputs": [
    {
     "name": "stderr",
     "output_type": "stream",
     "text": [
      "                                                                                "
     ]
    },
    {
     "name": "stdout",
     "output_type": "stream",
     "text": [
      "+---------------+-----------+\n",
      "|player_gamertag|total_kills|\n",
      "+---------------+-----------+\n",
      "|       EcZachly|    1503498|\n",
      "|    ILLICIT 117|    1020377|\n",
      "|  JakeWilson801|     532473|\n",
      "|      Amplafied|     500430|\n",
      "| Ash All Mighty|     461267|\n",
      "|  Mark SIII 313|     417530|\n",
      "|   Stormbane321|     404310|\n",
      "|   Battle Drunk|     333693|\n",
      "|     HD DrAsTiC|     246044|\n",
      "|    Mario Chief|     239525|\n",
      "|       Dope Boy|     229047|\n",
      "| TD Scavenger 7|     222977|\n",
      "|       Attack3d|     211862|\n",
      "|      My Regret|     201125|\n",
      "|   Subject TOAD|     185068|\n",
      "|         Draper|     181405|\n",
      "|   LSH Iron Man|     178847|\n",
      "|   RWB Team USA|     163029|\n",
      "|  Slippery Smif|     147221|\n",
      "|   GLoRyLiCiouS|     127306|\n",
      "+---------------+-----------+\n",
      "only showing top 20 rows\n",
      "\n"
     ]
    },
    {
     "name": "stderr",
     "output_type": "stream",
     "text": [
      "                                                                                "
     ]
    },
    {
     "data": {
      "text/plain": [
       "'EcZachly'"
      ]
     },
     "execution_count": 38,
     "metadata": {},
     "output_type": "execute_result"
    }
   ],
   "source": [
    "# Which player averages the most kills per game?\n",
    "from pyspark.sql.functions import desc\n",
    "from pyspark.sql import functions as F\n",
    "\n",
    "aggregated = df.groupBy(\"match_details_bucketed.player_gamertag\").agg(F.sum(\"player_total_kills\").alias(\"total_kills\"))\n",
    "player_kills = aggregated.orderBy(desc(\"total_kills\"))\n",
    "player_kills.show()\n",
    "\n",
    "player_with_most_kills = player_kills.first()[\"player_gamertag\"] \n",
    "player_with_most_kills"
   ]
  },
  {
   "cell_type": "code",
   "execution_count": 39,
   "id": "e256dbb3-9b2d-4dd2-a3ea-330072d3acdf",
   "metadata": {},
   "outputs": [
    {
     "name": "stderr",
     "output_type": "stream",
     "text": [
      "                                                                                "
     ]
    },
    {
     "name": "stdout",
     "output_type": "stream",
     "text": [
      "+--------------------+--------------+\n",
      "|         playlist_id|playlist_count|\n",
      "+--------------------+--------------+\n",
      "|f72e0ef0-7c4a-430...|       1565529|\n",
      "|780cc101-005c-4fc...|       1116002|\n",
      "|0bcf2be1-3168-4e4...|       1015496|\n",
      "|c98949ae-60a8-43d...|        824932|\n",
      "|2323b76a-db98-4e0...|        692342|\n",
      "|892189e9-d712-4bd...|        667670|\n",
      "|f27a65eb-2d11-496...|        167498|\n",
      "|355dc154-9809-4ed...|        140006|\n",
      "|d0766624-dbd7-453...|        138470|\n",
      "|bc0f8ad6-31e6-4a1...|        111073|\n",
      "|7b7e892c-d9b7-4b0...|         82723|\n",
      "|7385b4a1-86bf-4ae...|         76425|\n",
      "|f0c9ef9a-48bd-4b2...|         47813|\n",
      "|b5d5a242-ffa5-4d8...|         46411|\n",
      "|819eb188-1a1c-48b...|         39404|\n",
      "|d21c8381-26f1-4d6...|         37049|\n",
      "|4b12472e-2a06-423...|         28733|\n",
      "|5728f612-3f20-445...|         28543|\n",
      "|0504ca3c-de41-48f...|         22502|\n",
      "|88b7de19-113c-4be...|         15860|\n",
      "+--------------------+--------------+\n",
      "only showing top 20 rows\n",
      "\n"
     ]
    },
    {
     "name": "stderr",
     "output_type": "stream",
     "text": [
      "                                                                                "
     ]
    },
    {
     "data": {
      "text/plain": [
       "'f72e0ef0-7c4a-4307-af78-8e38dac3fdba'"
      ]
     },
     "execution_count": 39,
     "metadata": {},
     "output_type": "execute_result"
    }
   ],
   "source": [
    "# Which playlist gets played the most?\n",
    "from pyspark.sql.functions import desc\n",
    "from pyspark.sql import functions as F\n",
    "\n",
    "aggregated = df.groupBy(\"playlist_id\").agg(F.count(\"playlist_id\").alias(\"playlist_count\"))\n",
    "playlist_count = aggregated.orderBy(desc(\"playlist_count\"))\n",
    "playlist_count.show();\n",
    "\n",
    "playlist_with_most_plays = playlist_count.first()[\"playlist_id\"] \n",
    "playlist_with_most_plays"
   ]
  },
  {
   "cell_type": "code",
   "execution_count": 31,
   "id": "a5212dbe-1a6a-4739-b1ce-55dbd468b42f",
   "metadata": {},
   "outputs": [
    {
     "name": "stderr",
     "output_type": "stream",
     "text": [
      "                                                                                "
     ]
    },
    {
     "name": "stdout",
     "output_type": "stream",
     "text": [
      "+--------------------+---------+\n",
      "|               mapid|map_count|\n",
      "+--------------------+---------+\n",
      "|c74c9d0f-f206-11e...|  1445545|\n",
      "|c7edbf0f-f206-11e...|  1435048|\n",
      "|c7805740-f206-11e...|   953278|\n",
      "|cdb934b0-f206-11e...|   396305|\n",
      "|cb914b9e-f206-11e...|   309045|\n",
      "|ce1dc2de-f206-11e...|   299736|\n",
      "|cebd854f-f206-11e...|   298891|\n",
      "|caacb800-f206-11e...|   291540|\n",
      "|cd844200-f206-11e...|   261162|\n",
      "|cc040aa1-f206-11e...|   256966|\n",
      "|cdee4e70-f206-11e...|   244295|\n",
      "|c7b7baf0-f206-11e...|   204568|\n",
      "|ca737f8f-f206-11e...|   156631|\n",
      "|cbcea2c0-f206-11e...|   135375|\n",
      "|cc74f4e1-f206-11e...|   132392|\n",
      "|ce89a40f-f206-11e...|    65081|\n",
      "+--------------------+---------+\n",
      "\n"
     ]
    },
    {
     "name": "stderr",
     "output_type": "stream",
     "text": [
      "                                                                                "
     ]
    },
    {
     "data": {
      "text/plain": [
       "'Plaza'"
      ]
     },
     "execution_count": 31,
     "metadata": {},
     "output_type": "execute_result"
    }
   ],
   "source": [
    "# Which map gets played the most?\n",
    "from pyspark.sql.functions import desc\n",
    "from pyspark.sql import functions as F\n",
    "\n",
    "aggregated = df.groupBy(\"mapid\").agg(F.count(\"mapid\").alias(\"map_count\"))\n",
    "map_count = aggregated.orderBy(desc(\"map_count\"))\n",
    "map_count.show();\n",
    "\n",
    "map_with_most_plays = map_count.join(broadcast(maps),\"mapid\").first()[\"map_name\"]\n",
    "map_with_most_plays"
   ]
  },
  {
   "cell_type": "code",
   "execution_count": 32,
   "id": "8ee6f1ad-9aeb-4b99-a572-a42b48d6b5d0",
   "metadata": {},
   "outputs": [
    {
     "data": {
      "text/plain": [
       "'2430242797'"
      ]
     },
     "execution_count": 32,
     "metadata": {},
     "output_type": "execute_result"
    }
   ],
   "source": [
    "# Which map do players get the most Killing Spree medals on?\n",
    "from pyspark.sql.functions import desc\n",
    "from pyspark.sql import functions as F\n",
    "\n",
    "killing_spree_medal_id = medals.filter(F.col(\"name\") == \"Killing Spree\").first()[\"medal_id\"]\n",
    "killing_spree_medal_id\n"
   ]
  },
  {
   "cell_type": "code",
   "execution_count": 33,
   "id": "e8980a2f-4fe3-4590-ac91-f9976b0eb11a",
   "metadata": {},
   "outputs": [
    {
     "name": "stderr",
     "output_type": "stream",
     "text": [
      "25/11/01 04:00:17 WARN DataSourceV2Strategy: Can't translate true to source filter, unsupported expression\n"
     ]
    },
    {
     "name": "stdout",
     "output_type": "stream",
     "text": [
      "+--------------------+---------+\n",
      "|               mapid|map_count|\n",
      "+--------------------+---------+\n",
      "|c74c9d0f-f206-11e...|    56908|\n",
      "|c7edbf0f-f206-11e...|    50570|\n",
      "|c7805740-f206-11e...|    35444|\n",
      "|cdb934b0-f206-11e...|    15059|\n",
      "|ce1dc2de-f206-11e...|    13178|\n",
      "|cb914b9e-f206-11e...|    12927|\n",
      "|cebd854f-f206-11e...|    12738|\n",
      "|caacb800-f206-11e...|    12453|\n",
      "|cd844200-f206-11e...|    11675|\n",
      "|cdee4e70-f206-11e...|    11538|\n",
      "|cc040aa1-f206-11e...|    10918|\n",
      "|c7b7baf0-f206-11e...|     7259|\n",
      "|ca737f8f-f206-11e...|     6743|\n",
      "|cc74f4e1-f206-11e...|     6119|\n",
      "|cbcea2c0-f206-11e...|     6100|\n",
      "|ce89a40f-f206-11e...|     2319|\n",
      "+--------------------+---------+\n",
      "\n"
     ]
    },
    {
     "name": "stderr",
     "output_type": "stream",
     "text": [
      "25/11/01 04:00:19 WARN DataSourceV2Strategy: Can't translate true to source filter, unsupported expression\n"
     ]
    },
    {
     "data": {
      "text/plain": [
       "'Plaza'"
      ]
     },
     "execution_count": 33,
     "metadata": {},
     "output_type": "execute_result"
    }
   ],
   "source": [
    "\n",
    "aggregated = df.filter(F.col(\"medal_id\") == killing_spree_medal_id).groupBy(\"mapid\").agg(F.count(\"mapid\").alias(\"map_count\"))\n",
    "map_count = aggregated.orderBy(desc(\"map_count\"))\n",
    "map_count.show();\n",
    "\n",
    "map_with_most_killing_spree_medals = map_count.join(broadcast(maps),\"mapid\").first()[\"map_name\"]\n",
    "map_with_most_killing_spree_medals"
   ]
  },
  {
   "cell_type": "code",
   "execution_count": 40,
   "id": "096c7de7-3f41-4627-aa4c-50a3ba5f8d19",
   "metadata": {},
   "outputs": [
    {
     "name": "stderr",
     "output_type": "stream",
     "text": [
      "                                                                                "
     ]
    }
   ],
   "source": [
    "start_df = df.repartition(16, col(\"mapid\")).withColumn(\"mapid\",col(\"mapid\"))\n",
    "    \n",
    "first_sort_df = start_df.sortWithinPartitions(col(\"mapid\"))\n",
    "\n",
    "start_df.write.mode(\"overwrite\").saveAsTable(\"bootcamp.map_games_unsorted\")\n",
    "first_sort_df.write.mode(\"overwrite\").saveAsTable(\"bootcamp.map_games_sorted\")\n"
   ]
  },
  {
   "cell_type": "code",
   "execution_count": 41,
   "id": "573c8657-547d-40ee-b612-ad9cc5d63104",
   "metadata": {},
   "outputs": [
    {
     "data": {
      "text/html": [
       "<table>\n",
       "    <thead>\n",
       "        <tr>\n",
       "            <th>size</th>\n",
       "            <th>num_files</th>\n",
       "            <th>sorted</th>\n",
       "        </tr>\n",
       "    </thead>\n",
       "    <tbody>\n",
       "        <tr>\n",
       "            <td>55997997</td>\n",
       "            <td>13</td>\n",
       "            <td>sorted</td>\n",
       "        </tr>\n",
       "        <tr>\n",
       "            <td>30668445</td>\n",
       "            <td>13</td>\n",
       "            <td>unsorted</td>\n",
       "        </tr>\n",
       "    </tbody>\n",
       "</table>"
      ],
      "text/plain": [
       "+----------+-----------+----------+\n",
       "|     size | num_files |   sorted |\n",
       "+----------+-----------+----------+\n",
       "| 55997997 |        13 |   sorted |\n",
       "| 30668445 |        13 | unsorted |\n",
       "+----------+-----------+----------+"
      ]
     },
     "execution_count": 41,
     "metadata": {},
     "output_type": "execute_result"
    }
   ],
   "source": [
    "%%sql\n",
    "\n",
    "SELECT SUM(file_size_in_bytes) as size, COUNT(1) as num_files, 'sorted' \n",
    "FROM demo.bootcamp.map_games_sorted.files\n",
    "\n",
    "UNION ALL\n",
    "SELECT SUM(file_size_in_bytes) as size, COUNT(1) as num_files, 'unsorted' \n",
    "FROM demo.bootcamp.map_games_unsorted.files\n",
    "\n"
   ]
  },
  {
   "cell_type": "code",
   "execution_count": 42,
   "id": "01f759f2-362b-4f11-8a02-b991698024ed",
   "metadata": {},
   "outputs": [
    {
     "name": "stderr",
     "output_type": "stream",
     "text": [
      "                                                                                "
     ]
    }
   ],
   "source": [
    "start_df = df.repartition(16, col(\"playlist_id\")).withColumn(\"playlist_id\",col(\"playlist_id\"))\n",
    "    \n",
    "first_sort_df = start_df.sortWithinPartitions(col(\"playlist_id\"))\n",
    "\n",
    "start_df.write.mode(\"overwrite\").saveAsTable(\"bootcamp.playlist_games_unsorted\")\n",
    "first_sort_df.write.mode(\"overwrite\").saveAsTable(\"bootcamp.playlist_games_sorted\")\n"
   ]
  },
  {
   "cell_type": "code",
   "execution_count": 44,
   "id": "07596117-9256-4368-8d92-e8819ad2ef70",
   "metadata": {},
   "outputs": [
    {
     "data": {
      "text/html": [
       "<table>\n",
       "    <thead>\n",
       "        <tr>\n",
       "            <th>size</th>\n",
       "            <th>num_files</th>\n",
       "            <th>sorted</th>\n",
       "        </tr>\n",
       "    </thead>\n",
       "    <tbody>\n",
       "        <tr>\n",
       "            <td>56987232</td>\n",
       "            <td>12</td>\n",
       "            <td>sorted</td>\n",
       "        </tr>\n",
       "        <tr>\n",
       "            <td>30637588</td>\n",
       "            <td>12</td>\n",
       "            <td>unsorted</td>\n",
       "        </tr>\n",
       "    </tbody>\n",
       "</table>"
      ],
      "text/plain": [
       "+----------+-----------+----------+\n",
       "|     size | num_files |   sorted |\n",
       "+----------+-----------+----------+\n",
       "| 56987232 |        12 |   sorted |\n",
       "| 30637588 |        12 | unsorted |\n",
       "+----------+-----------+----------+"
      ]
     },
     "execution_count": 44,
     "metadata": {},
     "output_type": "execute_result"
    }
   ],
   "source": [
    "%%sql\n",
    "\n",
    "SELECT SUM(file_size_in_bytes) as size, COUNT(1) as num_files, 'sorted' \n",
    "FROM demo.bootcamp.playlist_games_sorted.files\n",
    "\n",
    "UNION ALL\n",
    "SELECT SUM(file_size_in_bytes) as size, COUNT(1) as num_files, 'unsorted' \n",
    "FROM demo.bootcamp.playlist_games_unsorted.files\n",
    "\n"
   ]
  },
  {
   "cell_type": "code",
   "execution_count": null,
   "id": "43803f0a-2ac2-4059-b3ca-ec7e0170ab1e",
   "metadata": {},
   "outputs": [],
   "source": []
  }
 ],
 "metadata": {
  "kernelspec": {
   "display_name": "Python 3 (ipykernel)",
   "language": "python",
   "name": "python3"
  },
  "language_info": {
   "codemirror_mode": {
    "name": "ipython",
    "version": 3
   },
   "file_extension": ".py",
   "mimetype": "text/x-python",
   "name": "python",
   "nbconvert_exporter": "python",
   "pygments_lexer": "ipython3",
   "version": "3.10.16"
  }
 },
 "nbformat": 4,
 "nbformat_minor": 5
}
